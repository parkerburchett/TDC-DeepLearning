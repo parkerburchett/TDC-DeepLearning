{
 "cells": [
  {
   "cell_type": "code",
   "execution_count": 2,
   "metadata": {},
   "outputs": [],
   "source": [
    "# You need to be in this venv .\\venv\\Scripts\\Activate.ps1"
   ]
  },
  {
   "cell_type": "markdown",
   "metadata": {},
   "source": [
    "## Load the labeled data from TDC "
   ]
  },
  {
   "cell_type": "code",
   "execution_count": 3,
   "metadata": {},
   "outputs": [
    {
     "name": "stderr",
     "output_type": "stream",
     "text": [
      "Found local copy...\n",
      "Loading...\n",
      "Done!\n"
     ]
    }
   ],
   "source": [
    "from tdc.single_pred import ADME\r\n",
    "import pandas as pd\r\n",
    "data = ADME(name = 'CYP2C19_Veith') # this is the datset I will be working with.\r\n",
    "\r\n",
    "split = data.get_split()"
   ]
  },
  {
   "cell_type": "code",
   "execution_count": 4,
   "metadata": {},
   "outputs": [
    {
     "data": {
      "text/html": "<div>\n<style scoped>\n    .dataframe tbody tr th:only-of-type {\n        vertical-align: middle;\n    }\n\n    .dataframe tbody tr th {\n        vertical-align: top;\n    }\n\n    .dataframe thead th {\n        text-align: right;\n    }\n</style>\n<table border=\"1\" class=\"dataframe\">\n  <thead>\n    <tr style=\"text-align: right;\">\n      <th></th>\n      <th>Drug_ID</th>\n      <th>Drug</th>\n      <th>Y</th>\n    </tr>\n  </thead>\n  <tbody>\n    <tr>\n      <th>0</th>\n      <td>6602638.0</td>\n      <td>CCCC(=O)Nc1ccc(N2CCN(CC)CC2)c(Cl)c1.Cl</td>\n      <td>0</td>\n    </tr>\n    <tr>\n      <th>1</th>\n      <td>644675.0</td>\n      <td>CC(=O)N(c1ccc2oc(=O)sc2c1)S(=O)(=O)c1cccs1</td>\n      <td>1</td>\n    </tr>\n    <tr>\n      <th>2</th>\n      <td>644851.0</td>\n      <td>Clc1ccccc1-c1nc(-c2ccccc2)n[nH]1</td>\n      <td>1</td>\n    </tr>\n    <tr>\n      <th>3</th>\n      <td>644890.0</td>\n      <td>COc1ccccc1C(c1nnnn1C(C)(C)C)N1CCN(Cc2ccncc2)CC1</td>\n      <td>1</td>\n    </tr>\n    <tr>\n      <th>4</th>\n      <td>644968.0</td>\n      <td>COc1ccccc1CNC(=O)Cn1nnc(-c2ccncc2)n1</td>\n      <td>1</td>\n    </tr>\n    <tr>\n      <th>...</th>\n      <td>...</td>\n      <td>...</td>\n      <td>...</td>\n    </tr>\n    <tr>\n      <th>12660</th>\n      <td>16758814.0</td>\n      <td>CCN1C(=O)[C@@H]2[C@@H](CC[C@@H]3C(=O)C=C[C@@H]...</td>\n      <td>0</td>\n    </tr>\n    <tr>\n      <th>12661</th>\n      <td>16758816.0</td>\n      <td>O=C1[C@H]2CC=C3[C@@H]([C@H](O)[C@H]4O[C@@H]4C3...</td>\n      <td>0</td>\n    </tr>\n    <tr>\n      <th>12662</th>\n      <td>16758817.0</td>\n      <td>CCN1C(=O)[C@H]2CC=C3[C@@H]([C@H](O)[C@H]4O[C@@...</td>\n      <td>1</td>\n    </tr>\n    <tr>\n      <th>12663</th>\n      <td>16758818.0</td>\n      <td>C[C@H](c1ccccc1)N1C(=O)[C@@H]2[C@@H](CC[C@@H]3...</td>\n      <td>0</td>\n    </tr>\n    <tr>\n      <th>12664</th>\n      <td>10847630.0</td>\n      <td>COC(=O)NC/C=C\\c1nc(CCCO)co1</td>\n      <td>0</td>\n    </tr>\n  </tbody>\n</table>\n<p>12665 rows × 3 columns</p>\n</div>",
      "text/plain": "          Drug_ID                                               Drug  Y\n0       6602638.0             CCCC(=O)Nc1ccc(N2CCN(CC)CC2)c(Cl)c1.Cl  0\n1        644675.0         CC(=O)N(c1ccc2oc(=O)sc2c1)S(=O)(=O)c1cccs1  1\n2        644851.0                   Clc1ccccc1-c1nc(-c2ccccc2)n[nH]1  1\n3        644890.0    COc1ccccc1C(c1nnnn1C(C)(C)C)N1CCN(Cc2ccncc2)CC1  1\n4        644968.0               COc1ccccc1CNC(=O)Cn1nnc(-c2ccncc2)n1  1\n...           ...                                                ... ..\n12660  16758814.0  CCN1C(=O)[C@@H]2[C@@H](CC[C@@H]3C(=O)C=C[C@@H]...  0\n12661  16758816.0  O=C1[C@H]2CC=C3[C@@H]([C@H](O)[C@H]4O[C@@H]4C3...  0\n12662  16758817.0  CCN1C(=O)[C@H]2CC=C3[C@@H]([C@H](O)[C@H]4O[C@@...  1\n12663  16758818.0  C[C@H](c1ccccc1)N1C(=O)[C@@H]2[C@@H](CC[C@@H]3...  0\n12664  10847630.0                        COC(=O)NC/C=C\\c1nc(CCCO)co1  0\n\n[12665 rows x 3 columns]"
     },
     "execution_count": 4,
     "metadata": {},
     "output_type": "execute_result"
    }
   ],
   "source": [
    "\r\n",
    "df = pd.read_csv('data\\cyp2c19_veith.tab', sep='\\t')\r\n",
    "df"
   ]
  },
  {
   "cell_type": "code",
   "execution_count": 5,
   "metadata": {},
   "outputs": [
    {
     "name": "stdout",
     "output_type": "stream",
     "text": [
      "                                             SMILE  Target\n",
      "0           CCCC(=O)Nc1ccc(N2CCN(CC)CC2)c(Cl)c1.Cl       0\n",
      "1       CC(=O)N(c1ccc2oc(=O)sc2c1)S(=O)(=O)c1cccs1       1\n",
      "2                 Clc1ccccc1-c1nc(-c2ccccc2)n[nH]1       1\n",
      "3  COc1ccccc1C(c1nnnn1C(C)(C)C)N1CCN(Cc2ccncc2)CC1       1\n",
      "4             COc1ccccc1CNC(=O)Cn1nnc(-c2ccncc2)n1       1\n",
      "(12665, 2)\n"
     ]
    }
   ],
   "source": [
    "cleaned_df = df[['Drug', 'Y']]\r\n",
    "cleaned_df.columns = ['SMILE','Target']\r\n",
    "print(cleaned_df.head())\r\n",
    "print(cleaned_df.shape)\r\n",
    "cleaned_df.to_csv('data\\cleaned_raw_data.csv',index=False)\r\n"
   ]
  },
  {
   "cell_type": "markdown",
   "metadata": {},
   "source": [
    "### data/cleaned_raw_data.csv is the all of the SMILE, target Pairs. "
   ]
  },
  {
   "cell_type": "markdown",
   "metadata": {},
   "source": [
    "### Sanity Check of data\r\n",
    "\r\n",
    "See if there are any Null values. and the distribution of True and False targets."
   ]
  },
  {
   "cell_type": "code",
   "execution_count": 37,
   "metadata": {},
   "outputs": [
    {
     "data": {
      "text/plain": "SMILE     0\nTarget    0\ndtype: int64"
     },
     "execution_count": 37,
     "metadata": {},
     "output_type": "execute_result"
    }
   ],
   "source": [
    "cleaned_df.isna().sum()\r\n",
    "# there are no null values in all of the data"
   ]
  },
  {
   "cell_type": "code",
   "execution_count": 11,
   "metadata": {},
   "outputs": [
    {
     "data": {
      "text/plain": "0    0.540545\n1    0.459455\nName: Target, dtype: float64"
     },
     "execution_count": 11,
     "metadata": {},
     "output_type": "execute_result"
    }
   ],
   "source": [
    "cleaned_df['Target'].value_counts(normalize=True)"
   ]
  },
  {
   "cell_type": "markdown",
   "metadata": {},
   "source": [
    "54% are negative examples and 46% positive examples. The data is unbalanced but not overly so."
   ]
  },
  {
   "cell_type": "code",
   "execution_count": 36,
   "metadata": {},
   "outputs": [
    {
     "data": {
      "image/png": "[encoded data removed]",
      "text/plain": "<Figure size 432x288 with 1 Axes>"
     },
     "metadata": {
      "needs_background": "light"
     },
     "output_type": "display_data"
    }
   ],
   "source": [
    "import matplotlib.pyplot as plt\r\n",
    "smile_len = cleaned_df['SMILE'].str.len()\r\n",
    "plt.hist(smile_len)\r\n",
    "plt.title('Histogram of Smile Length')\r\n",
    "plt.xlabel('Smile Lngth')\r\n",
    "plt.ylabel('Count')\r\n",
    "plt.show()"
   ]
  },
  {
   "cell_type": "markdown",
   "metadata": {},
   "source": [
    "## How many unique characters are there in the data?"
   ]
  },
  {
   "cell_type": "code",
   "execution_count": 35,
   "metadata": {},
   "outputs": [
    {
     "name": "stdout",
     "output_type": "stream",
     "text": [
      "['#', '%', '(', ')', '+', '-', '.', '/', '0', '1', '2', '3', '4', '5', '6', '7', '8', '9', '=', '@', 'A', 'B', 'C', 'F', 'H', 'I', 'K', 'L', 'M', 'N', 'O', 'P', 'R', 'S', 'W', 'Z', '[', '\\\\', ']', 'a', 'b', 'c', 'e', 'g', 'i', 'l', 'n', 'o', 'r', 's', 't', 'u']\n",
      "52\n"
     ]
    }
   ],
   "source": [
    "smiles = list(cleaned_df['SMILE'])\r\n",
    "\r\n",
    "unique_chars = set()\r\n",
    "for s in smiles:\r\n",
    "    chars_in_s = set([char for char in s])\r\n",
    "    unique_chars |= chars_in_s\r\n",
    "\r\n",
    "\r\n",
    "print(sorted(list(unique_chars)))\r\n",
    "print(len(unique_chars))"
   ]
  },
  {
   "cell_type": "markdown",
   "metadata": {},
   "source": [
    "### There are 52 unique characters in the dataset. "
   ]
  }
 ],
 "metadata": {
  "kernelspec": {
   "display_name": "Python 3.9.5  ('venv': venv)",
   "name": "pythonjvsc74a57bd0319a6e2519d9d5adbb3b90661743b8c856e0470732b2828c1bc6062dd5a9037f"
  },
  "language_info": {
   "codemirror_mode": {
    "name": "ipython",
    "version": 3
   },
   "file_extension": ".py",
   "mimetype": "text/x-python",
   "name": "python",
   "nbconvert_exporter": "python",
   "pygments_lexer": "ipython3",
   "version": "3.9.5"
  },
  "metadata": {
   "interpreter": {
    "hash": "319a6e2519d9d5adbb3b90661743b8c856e0470732b2828c1bc6062dd5a9037f"
   }
  },
  "orig_nbformat": 2
 },
 "nbformat": 4,
 "nbformat_minor": 2
}