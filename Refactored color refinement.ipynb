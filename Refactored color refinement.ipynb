{
  "nbformat": 4,
  "nbformat_minor": 2,
  "metadata": {
    "colab": {
      "name": "Self Written Color Refinement.ipynb",
      "provenance": [],
      "collapsed_sections": []
    },
    "kernelspec": {
      "name": "python3",
      "display_name": "Python 3.8.10 64-bit"
    },
    "language_info": {
      "name": "python",
      "version": "3.8.10",
      "mimetype": "text/x-python",
      "codemirror_mode": {
        "name": "ipython",
        "version": 3
      },
      "pygments_lexer": "ipython3",
      "nbconvert_exporter": "python",
      "file_extension": ".py"
    },
    "interpreter": {
      "hash": "916dbcbb3f70747c44a77c7bcd40155683ae19c65e1c03b4aa3499c5328201f1"
    }
  },
  "cells": [
    {
      "cell_type": "code",
      "execution_count": 65,
      "source": [
        "# !pip install pysmiles\n",
        "# !pip install pyTDC\n",
        "print('hello world')"
      ],
      "outputs": [
        {
          "output_type": "stream",
          "name": "stdout",
          "text": [
            "hello world\n"
          ]
        }
      ],
      "metadata": {
        "colab": {
          "base_uri": "https://localhost:8080/"
        },
        "id": "uAa3aTWTaVbv",
        "outputId": "46a458c3-a97b-420d-e919-df104932e8f4"
      }
    },
    {
      "cell_type": "code",
      "execution_count": 66,
      "source": [
        "import networkx as nx\n",
        "import numpy as np\n",
        "import pandas as pd\n",
        "from pysmiles import read_smiles\n",
        "\n",
        "# from tdc.single_pred import ADME\n",
        "import copy"
      ],
      "outputs": [],
      "metadata": {
        "id": "sy1l3KM4aLTj"
      }
    },
    {
      "cell_type": "markdown",
      "source": [
        "# Psudo Code\n",
        "\n",
        "Color refinement with different starting colors\n",
        "\n",
        "There are a couple of things to keep in mind. First, You want to keep the number of unique colors limited. \n",
        "\n",
        "If you use somethign like:\n",
        "\n",
        "Node color (i+1) =  hash (node color (i) ~append? multiply? add? (color for color in Node neighbors) % N You are garenteed to have at most N colors. Where you run into problems when mutiplue colors are hashed together. \n",
        "\n",
        "Odds of a spurious hash for a single node == 1/N\n",
        "\n",
        "Odds of a spurious hash for a single iteration == (num nodes) / N\n",
        "\n",
        "Odds of a spurious hash for k iteratiosn = K *(num_nodes) / N\n",
        "\n",
        "### I have not double checked this math. I should run it by someone who knows it better. You should run some simulations on this.\n",
        "\n",
        "\n",
        "Requirements\n",
        "\n",
        "\n",
        "1. Given a graph where each vertex is garenteed to have exactly one attribute that can be treated as a int. \n",
        "\n",
        "\n",
        "\n"
      ],
      "metadata": {
        "id": "W1ecBIEDaZ9t"
      }
    },
    {
      "cell_type": "code",
      "execution_count": 67,
      "source": [
        "g = read_smiles('COc1ccccc1CNC(=O)Cn1nnc(-c2ccncc2)n1')\n",
        "g"
      ],
      "outputs": [
        {
          "output_type": "execute_result",
          "data": {
            "text/plain": [
              "<networkx.classes.graph.Graph at 0x7f15a4845e80>"
            ]
          },
          "metadata": {},
          "execution_count": 67
        }
      ],
      "metadata": {
        "colab": {
          "base_uri": "https://localhost:8080/"
        },
        "id": "-oaCE0vjbaVY",
        "outputId": "1013eb4d-dd00-4331-e8d3-6ba191c09b81"
      }
    },
    {
      "cell_type": "markdown",
      "source": [
        "### Next steps:\n",
        "\n",
        "\n",
        "1. Empericla test your functions at differetn number of buckets to make sure that they are evenly distributed.\n",
        "2. Wrap the hashing functions in factory classes\n",
        "3. Make the color iterators do `color_0` for the inital coloring and then `color_1` ... `color_k` for the iterations after than that. (the graph features when will each be a num_buckets long feature K features for K iterations.\n",
        "\n",
        "\n",
        "# You need a emperical measure of colisions.\n"
      ],
      "metadata": {
        "id": "TW6XSjR25MKJ"
      }
    },
    {
      "cell_type": "code",
      "execution_count": 111,
      "source": [
        "import numpy as np\n",
        "import pandas as pd\n",
        "import networkx as nx\n",
        "\n",
        "\n",
        "class ColorRefinement:\n",
        "\n",
        "  @staticmethod\n",
        "  def create_color_hash_function(num_buckets: int):\n",
        "\n",
        "    def get_next_node_color(node_color:int, neighbor_colors:list)-> int:\n",
        "      pre_hash_color = str(node_color) + str(np.prod(neighbor_colors))\n",
        "      new_color = hash(pre_hash_color) % num_buckets\n",
        "      return new_color\n",
        "\n",
        "\n",
        "    hash_function = get_next_node_color\n",
        "    return hash_function\n",
        "\n",
        "  @staticmethod\n",
        "  def convert_node_view_to_node_color_dict(node_data: nx.classes.reportviews.NodeDataView, num_buckets: int)-> dict:\n",
        "    \"\"\"\n",
        "        Set the inital color of each of the nodes based on hashing the node attributes and a number of buckets. \n",
        "\n",
        "        Returns a dictionary of inital colors to make the nodes\n",
        "    \"\"\"\n",
        "\n",
        "    node_data_as_dict = dict(node_data)\n",
        "    node_names = list(node_data_as_dict.keys())\n",
        "    node_starting_colors = dict()\n",
        "\n",
        "    for index, node_num in enumerate(node_names):\n",
        "      node_attributes = tuple(sorted(list(node_data_as_dict[node_names[index]].items())))\n",
        "      inital_node_color = hash(node_attributes) % num_buckets\n",
        "      node_starting_colors[node_num] = inital_node_color\n",
        "\n",
        "    return node_starting_colors\n",
        "  \n",
        "  @staticmethod\n",
        "  def create_inital_color_graph(graph: nx.classes.graph.Graph, num_buckets:int) ->nx.classes.graph.Graph:\n",
        "\n",
        "    starting_colors = ColorRefinement.convert_node_view_to_node_color_dict(graph.nodes.data(True), num_buckets)\n",
        "    color_graph = copy.deepcopy(graph)\n",
        "    nx.set_node_attributes(color_graph, starting_colors, name=\"color_0\")\n",
        "\n",
        "    # remove unneeded tags\n",
        "    for index, node in enumerate(color_graph.nodes.data(True)):\n",
        "      node_attributes = list(color_graph.nodes[index].keys())\n",
        "      attributes_to_remove = [a for a in node_attributes if a !='color_0']\n",
        "      [color_graph.nodes[index].pop(a) for a in attributes_to_remove]\n",
        "\n",
        "    return color_graph\n",
        "\n",
        "  @staticmethod\n",
        "  def next_iteration_of_color_graph(color_graph, iter_num:int, color_hashing_function) -> None:\n",
        "    prev_color_key = f'color_{iter_num-1}'\n",
        "    \n",
        "    # do an iteration\n",
        "    updated_colors = dict()\n",
        "    for index, current_node in enumerate(color_graph.nodes.data(True)):\n",
        "      neighbor_nodes = [n for n in color_graph.neighbors(index)]\n",
        "      current_color = color_graph.nodes[current_node[0]]\n",
        "      neighbor_colors = ([color_graph.nodes[n][prev_color_key] for n in neighbor_nodes])\n",
        "      updated_colors[index] = color_hashing_function(current_color,neighbor_colors)\n",
        "\n",
        "    nx.set_node_attributes(color_graph, updated_colors, name=f'color_{iter_num}')\n",
        "\n",
        "  @staticmethod\n",
        "  def compute_K_color_refinements(G: nx.classes.graph.Graph, K:int, num_buckets:int) ->nx.classes.graph.Graph:\n",
        "    \"\"\"\n",
        "    Given a graph G and a hash_function f, compute K iterations of the color refinement algorithm (link to algo)\n",
        "    \"\"\"\n",
        "    color_hashing_function = ColorRefinement.create_color_hash_function(num_buckets)\n",
        "    color_graph = ColorRefinement.create_inital_color_graph(G, num_buckets)\n",
        "\n",
        "    for iter_num in range(1,K):\n",
        "      ColorRefinement.next_iteration_of_color_graph(color_graph, iter_num=iter_num, color_hashing_function=color_hashing_function)\n",
        "    return color_graph\n",
        "\n",
        "\n",
        "  @staticmethod\n",
        "  def extact_node_colors(node, node_num)-> tuple:\n",
        "    df = pd.DataFrame.from_dict(node.items())\n",
        "    df.columns = ['iteration_number', f'Node_{node_num}']\n",
        "    df.set_index('iteration_number', inplace=True)\n",
        "    return df\n",
        "\n",
        "\n",
        "  @staticmethod\n",
        "  def convert_color_graph_to_DataFrame(color_graph: nx.classes.graph.Graph) -> pd.DataFrame:\n",
        "    \"\"\"\n",
        "      Converts the node colors into a pandas data frame where the rows are the iterations and the columns are the node colors\n",
        "    \"\"\"\n",
        "    color_node_view = color_graph.nodes.data(True)\n",
        "    node_colors = [ColorRefinement.extact_node_colors(color_node_view[i], i) for i in range(0,len(color_node_view))]\n",
        "    df = pd.concat(node_colors, axis=1)\n",
        "    return df\n",
        "\n",
        "  @staticmethod\n",
        "  def compute_graph_embeddings(G: nx.classes.graph.Graph, K:int, num_buckets:int) -> pd.DataFrame:\n",
        "    color_graph = ColorRefinement.compute_K_color_refinements(G=G, K=K, num_buckets=num_buckets)\n",
        "    embedding_df = ColorRefinement.convert_color_graph_to_DataFrame(color_graph=color_graph)\n",
        "    return embedding_df\n",
        "\n",
        "  @staticmethod\n",
        "  def compute_bag_of_colors_vector(iteration_colors: np.array, num_buckets:int):\n",
        "    bag_of_colors = np.zeros(shape=num_buckets).astype(int)\n",
        "    for color in iteration_colors:\n",
        "        bag_of_colors[color] +=1\n",
        "    return bag_of_colors\n",
        "\n",
        "\n",
        "  @staticmethod\n",
        "  def compute_call_color_bag(embedding_df: pd.DataFrame, num_buckets:int) -> pd.DataFrame:\n",
        "    bag_of_colors_df = pd.DataFrame(index= embedding_df.index, columns=[a for a in range(num_buckets)])\n",
        "    for iteration_name in bag_of_colors_df.index:\n",
        "       iteration_colors = embedding_df.loc[iteration_name].values\n",
        "       bag_of_colors_vector = ColorRefinement.compute_bag_of_colors_vector(iteration_colors, num_buckets)\n",
        "       bag_of_colors_df.loc[iteration_name, :] = bag_of_colors_vector\n",
        "\n",
        "    return bag_of_colors_df\n",
        "\n",
        "  @staticmethod\n",
        "  def embedd_graph_with_color_refinement(G: nx.classes.graph.Graph, K:int, num_buckets:int) -> pd.DataFrame:\n",
        "    embedding_df = ColorRefinement.compute_graph_embeddings(G,K,num_buckets)\n",
        "    bag_of_colors_df = ColorRefinement.compute_call_color_bag(embedding_df,num_buckets)\n",
        "    return bag_of_colors_df\n",
        "\n",
        "cr = ColorRefinement()\n",
        "\n",
        "df = cr.embedd_graph_with_color_refinement(g,11,10_000)\n",
        "df.sum(axis=1)"
      ],
      "outputs": [
        {
          "output_type": "stream",
          "name": "stdout",
          "text": [
            "Index(['color_0', 'color_1', 'color_2', 'color_3', 'color_4', 'color_5',\n",
            "       'color_6', 'color_7', 'color_8', 'color_9', 'color_10'],\n",
            "      dtype='object', name='iteration_number')\n"
          ]
        },
        {
          "output_type": "execute_result",
          "data": {
            "text/plain": [
              "iteration_number\n",
              "color_0     24.0\n",
              "color_1     24.0\n",
              "color_2     24.0\n",
              "color_3     24.0\n",
              "color_4     24.0\n",
              "color_5     24.0\n",
              "color_6     24.0\n",
              "color_7     24.0\n",
              "color_8     24.0\n",
              "color_9     24.0\n",
              "color_10    24.0\n",
              "dtype: float64"
            ]
          },
          "metadata": {},
          "execution_count": 111
        }
      ],
      "metadata": {
        "colab": {
          "base_uri": "https://localhost:8080/"
        },
        "id": "F2i6nW_TTYZS",
        "outputId": "dda99dd3-b90d-4218-9cd4-1b37aeb02b7a"
      }
    },
    {
      "cell_type": "code",
      "execution_count": 89,
      "source": [
        "for iteration_name in df.index:\n",
        "    print(type(df.loc[iteration_name].values))\n",
        "\n"
      ],
      "outputs": [
        {
          "output_type": "stream",
          "name": "stdout",
          "text": [
            "<class 'numpy.ndarray'>\n",
            "<class 'numpy.ndarray'>\n",
            "<class 'numpy.ndarray'>\n",
            "<class 'numpy.ndarray'>\n",
            "<class 'numpy.ndarray'>\n",
            "<class 'numpy.ndarray'>\n",
            "<class 'numpy.ndarray'>\n",
            "<class 'numpy.ndarray'>\n",
            "<class 'numpy.ndarray'>\n",
            "<class 'numpy.ndarray'>\n",
            "<class 'numpy.ndarray'>\n"
          ]
        }
      ],
      "metadata": {}
    },
    {
      "cell_type": "code",
      "execution_count": 92,
      "source": [
        "s = np.array([3,4,4,8])\n",
        "e = np.zeros(10).astype(np.int)\n",
        "\n",
        "for i in s:\n",
        "    e[i] +=1\n",
        "e"
      ],
      "outputs": [
        {
          "output_type": "execute_result",
          "data": {
            "text/plain": [
              "array([0, 0, 0, 1, 2, 0, 0, 0, 1, 0])"
            ]
          },
          "metadata": {},
          "execution_count": 92
        }
      ],
      "metadata": {}
    },
    {
      "cell_type": "code",
      "execution_count": 93,
      "source": [
        "def compute_bag_of_colors_vector(iteration_colors: np.array, num_buckets:int):\n",
        "    bag_of_colors = np.zeros(shape=num_buckets).astype(int)\n",
        "\n",
        "    for color in iteration_colors:\n",
        "        bag_of_colors[color] +=1\n",
        "    return bag_of_colors\n"
      ],
      "outputs": [],
      "metadata": {}
    }
  ]
}