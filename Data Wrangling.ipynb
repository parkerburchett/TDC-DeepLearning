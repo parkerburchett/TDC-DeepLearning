{
 "cells": [
  {
   "cell_type": "code",
   "execution_count": 1,
   "metadata": {},
   "outputs": [],
   "source": [
    "# You need to be in this venv .\\venv\\Scripts\\Activate.ps1"
   ]
  },
  {
   "cell_type": "markdown",
   "metadata": {},
   "source": [
    "## Load the data\r\n",
    "\r\n",
    "1. Loads data from pyTDC 'ADME' \r\n",
    "2. Loads data from drug bank\r\n",
    "3. loads data from bio snap\r\n"
   ]
  },
  {
   "cell_type": "code",
   "execution_count": 2,
   "metadata": {},
   "outputs": [
    {
     "name": "stderr",
     "output_type": "stream",
     "text": [
      "Found local copy...\n",
      "Loading...\n",
      "Done!\n"
     ]
    }
   ],
   "source": [
    "from tdc.single_pred import ADME\r\n",
    "import pandas as pd\r\n",
    "data = ADME(name = 'CYP2C19_Veith') # this load the datset. \r\n",
    "\r\n",
    "split = data.get_split()"
   ]
  },
  {
   "cell_type": "code",
   "execution_count": 3,
   "metadata": {},
   "outputs": [
    {
     "data": {
      "text/html": "<div>\n<style scoped>\n    .dataframe tbody tr th:only-of-type {\n        vertical-align: middle;\n    }\n\n    .dataframe tbody tr th {\n        vertical-align: top;\n    }\n\n    .dataframe thead th {\n        text-align: right;\n    }\n</style>\n<table border=\"1\" class=\"dataframe\">\n  <thead>\n    <tr style=\"text-align: right;\">\n      <th></th>\n      <th>Drug_ID</th>\n      <th>Drug</th>\n      <th>Y</th>\n    </tr>\n  </thead>\n  <tbody>\n    <tr>\n      <th>0</th>\n      <td>6602638.0</td>\n      <td>CCCC(=O)Nc1ccc(N2CCN(CC)CC2)c(Cl)c1.Cl</td>\n      <td>0</td>\n    </tr>\n    <tr>\n      <th>1</th>\n      <td>644675.0</td>\n      <td>CC(=O)N(c1ccc2oc(=O)sc2c1)S(=O)(=O)c1cccs1</td>\n      <td>1</td>\n    </tr>\n    <tr>\n      <th>2</th>\n      <td>644851.0</td>\n      <td>Clc1ccccc1-c1nc(-c2ccccc2)n[nH]1</td>\n      <td>1</td>\n    </tr>\n    <tr>\n      <th>3</th>\n      <td>644890.0</td>\n      <td>COc1ccccc1C(c1nnnn1C(C)(C)C)N1CCN(Cc2ccncc2)CC1</td>\n      <td>1</td>\n    </tr>\n    <tr>\n      <th>4</th>\n      <td>644968.0</td>\n      <td>COc1ccccc1CNC(=O)Cn1nnc(-c2ccncc2)n1</td>\n      <td>1</td>\n    </tr>\n    <tr>\n      <th>...</th>\n      <td>...</td>\n      <td>...</td>\n      <td>...</td>\n    </tr>\n    <tr>\n      <th>12660</th>\n      <td>16758814.0</td>\n      <td>CCN1C(=O)[C@@H]2[C@@H](CC[C@@H]3C(=O)C=C[C@@H]...</td>\n      <td>0</td>\n    </tr>\n    <tr>\n      <th>12661</th>\n      <td>16758816.0</td>\n      <td>O=C1[C@H]2CC=C3[C@@H]([C@H](O)[C@H]4O[C@@H]4C3...</td>\n      <td>0</td>\n    </tr>\n    <tr>\n      <th>12662</th>\n      <td>16758817.0</td>\n      <td>CCN1C(=O)[C@H]2CC=C3[C@@H]([C@H](O)[C@H]4O[C@@...</td>\n      <td>1</td>\n    </tr>\n    <tr>\n      <th>12663</th>\n      <td>16758818.0</td>\n      <td>C[C@H](c1ccccc1)N1C(=O)[C@@H]2[C@@H](CC[C@@H]3...</td>\n      <td>0</td>\n    </tr>\n    <tr>\n      <th>12664</th>\n      <td>10847630.0</td>\n      <td>COC(=O)NC/C=C\\c1nc(CCCO)co1</td>\n      <td>0</td>\n    </tr>\n  </tbody>\n</table>\n<p>12665 rows × 3 columns</p>\n</div>",
      "text/plain": "          Drug_ID                                               Drug  Y\n0       6602638.0             CCCC(=O)Nc1ccc(N2CCN(CC)CC2)c(Cl)c1.Cl  0\n1        644675.0         CC(=O)N(c1ccc2oc(=O)sc2c1)S(=O)(=O)c1cccs1  1\n2        644851.0                   Clc1ccccc1-c1nc(-c2ccccc2)n[nH]1  1\n3        644890.0    COc1ccccc1C(c1nnnn1C(C)(C)C)N1CCN(Cc2ccncc2)CC1  1\n4        644968.0               COc1ccccc1CNC(=O)Cn1nnc(-c2ccncc2)n1  1\n...           ...                                                ... ..\n12660  16758814.0  CCN1C(=O)[C@@H]2[C@@H](CC[C@@H]3C(=O)C=C[C@@H]...  0\n12661  16758816.0  O=C1[C@H]2CC=C3[C@@H]([C@H](O)[C@H]4O[C@@H]4C3...  0\n12662  16758817.0  CCN1C(=O)[C@H]2CC=C3[C@@H]([C@H](O)[C@H]4O[C@@...  1\n12663  16758818.0  C[C@H](c1ccccc1)N1C(=O)[C@@H]2[C@@H](CC[C@@H]3...  0\n12664  10847630.0                        COC(=O)NC/C=C\\c1nc(CCCO)co1  0\n\n[12665 rows x 3 columns]"
     },
     "execution_count": 3,
     "metadata": {},
     "output_type": "execute_result"
    }
   ],
   "source": [
    "\r\n",
    "df = pd.read_csv('data\\cyp2c19_veith.tab', sep='\\t')\r\n",
    "df"
   ]
  },
  {
   "cell_type": "code",
   "execution_count": 4,
   "metadata": {},
   "outputs": [
    {
     "name": "stdout",
     "output_type": "stream",
     "text": [
      "                                             SMILE  Target\n",
      "0           CCCC(=O)Nc1ccc(N2CCN(CC)CC2)c(Cl)c1.Cl       0\n",
      "1       CC(=O)N(c1ccc2oc(=O)sc2c1)S(=O)(=O)c1cccs1       1\n",
      "2                 Clc1ccccc1-c1nc(-c2ccccc2)n[nH]1       1\n",
      "3  COc1ccccc1C(c1nnnn1C(C)(C)C)N1CCN(Cc2ccncc2)CC1       1\n",
      "4             COc1ccccc1CNC(=O)Cn1nnc(-c2ccncc2)n1       1\n",
      "(12665, 2)\n"
     ]
    }
   ],
   "source": [
    "cleaned_df = df[['Drug', 'Y']]\r\n",
    "cleaned_df.columns = ['SMILE','Target']\r\n",
    "print(cleaned_df.head())\r\n",
    "print(cleaned_df.shape)\r\n",
    "cleaned_df.to_csv('data\\cleaned_raw_data.csv',index=False)\r\n"
   ]
  },
  {
   "cell_type": "markdown",
   "metadata": {},
   "source": [
    "### data/cleaned_raw_data.csv is the all of the SMILE, target Pairs. "
   ]
  },
  {
   "cell_type": "markdown",
   "metadata": {},
   "source": [
    "# Load a bunch of smiles to a .csv file that are similar to the training dataset. \r\n",
    "\r\n",
    "https://www.ebi.ac.uk/chembl/api/data/similarity/CN1C(=O)C=C(c2cccc(Cl)c2)c3cc(ccc13)[C@@](N)(c4ccc(Cl)cc4)c5cncn5C/80 \r\n",
    "https://chembl.gitbook.io/chembl-interface-documentation/web-services/chembl-data-web-services"
   ]
  },
  {
   "cell_type": "code",
   "execution_count": 5,
   "metadata": {},
   "outputs": [],
   "source": [
    "import requests\r\n",
    "import json\r\n",
    "\r\n",
    "call = f'https://www.ebi.ac.uk/chembl/api/data/similarity/CN1C(=O)C=C(c2cccc(Cl)c2)c3cc(ccc13)[C@@](N)(c4ccc(Cl)cc4)c5cncn5C/80?format=json'\r\n",
    "\r\n",
    "response = requests.get(call)"
   ]
  },
  {
   "cell_type": "code",
   "execution_count": 6,
   "metadata": {},
   "outputs": [
    {
     "data": {
      "text/plain": "dict_keys(['molecules', 'page_meta'])"
     },
     "execution_count": 6,
     "metadata": {},
     "output_type": "execute_result"
    }
   ],
   "source": [
    "resp_dict =json.loads(response.text)\r\n",
    "resp_dict.keys()"
   ]
  },
  {
   "cell_type": "code",
   "execution_count": 7,
   "metadata": {},
   "outputs": [
    {
     "name": "stdout",
     "output_type": "stream",
     "text": [
      "<class 'list'>\n",
      "8\n",
      "<class 'dict'>\n",
      "dict_keys(['atc_classifications', 'availability_type', 'biotherapeutic', 'black_box_warning', 'chebi_par_id', 'chirality', 'cross_references', 'dosed_ingredient', 'first_approval', 'first_in_class', 'helm_notation', 'indication_class', 'inorganic_flag', 'max_phase', 'molecule_chembl_id', 'molecule_hierarchy', 'molecule_properties', 'molecule_structures', 'molecule_type', 'natural_product', 'oral', 'parenteral', 'polymer_flag', 'pref_name', 'prodrug', 'similarity', 'structure_type', 'therapeutic_flag', 'topical', 'usan_stem', 'usan_stem_definition', 'usan_substem', 'usan_year', 'withdrawn_class', 'withdrawn_country', 'withdrawn_flag', 'withdrawn_reason', 'withdrawn_year'])\n"
     ]
    }
   ],
   "source": [
    "molecules = resp_dict['molecules']\r\n",
    "print(type(molecules))\r\n",
    "print(len(molecules))\r\n",
    "\r\n",
    "for i in molecules[:1]:\r\n",
    "    print(type(molecules[0]))\r\n",
    "    print(molecules[0].keys())"
   ]
  },
  {
   "cell_type": "code",
   "execution_count": 8,
   "metadata": {},
   "outputs": [
    {
     "data": {
      "text/plain": "'Cn1cncc1[C@](N)(c1ccc(Cl)cc1)c1ccc2c(c1)c(-c1cccc(Cl)c1)cc(=O)n2C'"
     },
     "execution_count": 8,
     "metadata": {},
     "output_type": "execute_result"
    }
   ],
   "source": [
    "molecules[0]['molecule_structures']['canonical_smiles']"
   ]
  },
  {
   "cell_type": "code",
   "execution_count": 9,
   "metadata": {},
   "outputs": [],
   "source": [
    "def get_similar_smiles_from_chembl(smile:str, similarity_threshold=70):\r\n",
    "    \"\"\"\r\n",
    "        Returns some number of a smile  for each molecule that is similar to smile that is above a similarity_threshold% tanimoto similarity cut off.\r\n",
    "        Based on the molecules in the chembl database\r\n",
    "    \"\"\"\r\n",
    "    try:\r\n",
    "        call = f'https://www.ebi.ac.uk/chembl/api/data/similarity/{smile}/{similarity_threshold}?format=json'\r\n",
    "        response = requests.get(call)\r\n",
    "        molecules = json.loads(response.text)['molecules']\r\n",
    "        similar_smile_strings = [drug['molecule_structures']['canonical_smiles'] for drug in molecules]\r\n",
    "        return similar_smile_strings\r\n",
    "    except:\r\n",
    "        print('Request failed: error code: ' +str(response.status_code))\r\n",
    "        print(smile)\r\n",
    "        print(call)\r\n",
    "        return []\r\n"
   ]
  },
  {
   "cell_type": "code",
   "execution_count": 10,
   "metadata": {},
   "outputs": [],
   "source": [
    "training_df = cleaned_df.loc[:10000,:] # this is about 80% of the data reserved for training. The other 20% is not included. You might want to random shuffle it later\r\n",
    "validaiton_df = cleaned_df.loc[10000:,:]\r\n",
    "training_df.to_csv('data\\in_training_data.csv',index=False)\r\n",
    "validaiton_df.to_csv('data\\in_validation_data.csv',index=False)\r\n"
   ]
  },
  {
   "cell_type": "markdown",
   "metadata": {},
   "source": [
    "# This will go through all of the smiles in the entire dataset\r\n",
    "\r\n",
    "To avoid leakage you might want to break this up into training and target datasets at this point so you don't let the data in the validation set overwhelm it."
   ]
  },
  {
   "cell_type": "code",
   "execution_count": 11,
   "metadata": {},
   "outputs": [
    {
     "name": "stdout",
     "output_type": "stream",
     "text": [
      "                                             SMILE  Target\n",
      "0           CCCC(=O)Nc1ccc(N2CCN(CC)CC2)c(Cl)c1.Cl       0\n",
      "1       CC(=O)N(c1ccc2oc(=O)sc2c1)S(=O)(=O)c1cccs1       1\n",
      "2                 Clc1ccccc1-c1nc(-c2ccccc2)n[nH]1       1\n",
      "3  COc1ccccc1C(c1nnnn1C(C)(C)C)N1CCN(Cc2ccncc2)CC1       1\n",
      "4             COc1ccccc1CNC(=O)Cn1nnc(-c2ccncc2)n1       1\n",
      "(10001, 2)\n"
     ]
    }
   ],
   "source": [
    "train_df  = pd.read_csv('data\\in_training_data.csv')\r\n",
    "print(train_df.head())\r\n",
    "print(train_df.shape)\r\n"
   ]
  },
  {
   "cell_type": "code",
   "execution_count": 12,
   "metadata": {},
   "outputs": [
    {
     "name": "stdout",
     "output_type": "stream",
     "text": [
      "Request failed: error code: 404\n",
      "CCOC(=O)CSC1=C(C#N)C(C)C2=C(CCCC2=O)N1\n",
      "https://www.ebi.ac.uk/chembl/api/data/similarity/CCOC(=O)CSC1=C(C#N)C(C)C2=C(CCCC2=O)N1/70?format=json\n",
      "Request failed: error code: 404\n",
      "CCSC1=C(C#N)C2(CCCCC2)C(C#N)=C(N)N1\n",
      "https://www.ebi.ac.uk/chembl/api/data/similarity/CCSC1=C(C#N)C2(CCCCC2)C(C#N)=C(N)N1/70?format=json\n",
      "Request failed: error code: 404\n",
      "CN(CCC#N)CC(=O)Nc1ccc(NC(=O)CN(C)CCC#N)cc1\n",
      "https://www.ebi.ac.uk/chembl/api/data/similarity/CN(CCC#N)CC(=O)Nc1ccc(NC(=O)CN(C)CCC#N)cc1/70?format=json\n",
      "Request failed: error code: 404\n",
      "N#CC1=C(N)OC2=C(C(=O)CCC2)C12CCC1(CC2)OCCO1\n",
      "https://www.ebi.ac.uk/chembl/api/data/similarity/N#CC1=C(N)OC2=C(C(=O)CCC2)C12CCC1(CC2)OCCO1/70?format=json\n",
      "Request failed: error code: 404\n",
      "N#C/C(=C/N1CCOCC1)c1ccccc1\n",
      "https://www.ebi.ac.uk/chembl/api/data/similarity/N#C/C(=C/N1CCOCC1)c1ccccc1/70?format=json\n",
      "Request failed: error code: 404\n",
      "CCn1c(SCc2ccc(C#N)cc2)nnc1-c1ccc(S(=O)(=O)N2CCCCC2)cc1\n",
      "https://www.ebi.ac.uk/chembl/api/data/similarity/CCn1c(SCc2ccc(C#N)cc2)nnc1-c1ccc(S(=O)(=O)N2CCCCC2)cc1/70?format=json\n",
      "Request failed: error code: 404\n",
      "CN1CCC2(CC1)C1CN(C)CC=C1C(C#N)=C(N)C2(C#N)C#N.O.[OH-]\n",
      "https://www.ebi.ac.uk/chembl/api/data/similarity/CN1CCC2(CC1)C1CN(C)CC=C1C(C#N)=C(N)C2(C#N)C#N.O.[OH-]/70?format=json\n",
      "Request failed: error code: 404\n",
      "CCN(CC)c1ccc2c(c1)OC(N)=C(C#N)C2c1cccnc1\n",
      "https://www.ebi.ac.uk/chembl/api/data/similarity/CCN(CC)c1ccc2c(c1)OC(N)=C(C#N)C2c1cccnc1/70?format=json\n",
      "Request failed: error code: 404\n",
      "Cc1cc(-c2cc(-c3ccc(Cl)cc3)nc(N)c2C#N)co1\n",
      "https://www.ebi.ac.uk/chembl/api/data/similarity/Cc1cc(-c2cc(-c3ccc(Cl)cc3)nc(N)c2C#N)co1/70?format=json\n",
      "Request failed: error code: 404\n",
      "CC(C)OC(=O)C(C#N)c1nc2ccccc2nc1N1CCN(Cc2ccccc2)CC1\n",
      "https://www.ebi.ac.uk/chembl/api/data/similarity/CC(C)OC(=O)C(C#N)c1nc2ccccc2nc1N1CCN(Cc2ccccc2)CC1/70?format=json\n",
      "Request failed: error code: 404\n",
      "Cc1nc2sc(C#N)c(N)c2c2c1CCCC2\n",
      "https://www.ebi.ac.uk/chembl/api/data/similarity/Cc1nc2sc(C#N)c(N)c2c2c1CCCC2/70?format=json\n",
      "Request failed: error code: 404\n",
      "CC1(C)CC(=O)C2=C(C1)Oc1nc3ccccc3cc1C2C(C#N)C#N\n",
      "https://www.ebi.ac.uk/chembl/api/data/similarity/CC1(C)CC(=O)C2=C(C1)Oc1nc3ccccc3cc1C2C(C#N)C#N/70?format=json\n",
      "Request failed: error code: 404\n",
      "CNc1oc(-c2ccc(Cl)cc2)nc1C#N\n",
      "https://www.ebi.ac.uk/chembl/api/data/similarity/CNc1oc(-c2ccc(Cl)cc2)nc1C#N/70?format=json\n",
      "Request failed: error code: 404\n",
      "CNc1oc(-c2cccs2)nc1C#N\n",
      "https://www.ebi.ac.uk/chembl/api/data/similarity/CNc1oc(-c2cccs2)nc1C#N/70?format=json\n",
      "Request failed: error code: 404\n",
      "CC1CCc2cccc3c2N1c1cc(C#N)c(C#N)cc1O3\n",
      "https://www.ebi.ac.uk/chembl/api/data/similarity/CC1CCc2cccc3c2N1c1cc(C#N)c(C#N)cc1O3/70?format=json\n",
      "Request failed: error code: 404\n",
      "N#Cc1nc(-c2cccs2)oc1NCc1ccccc1\n",
      "https://www.ebi.ac.uk/chembl/api/data/similarity/N#Cc1nc(-c2cccs2)oc1NCc1ccccc1/70?format=json\n",
      "Request failed: error code: 404\n",
      "CCCCCCOC(=O)C(C#N)c1nc2ccccc2nc1N1CCN(CC)CC1\n",
      "https://www.ebi.ac.uk/chembl/api/data/similarity/CCCCCCOC(=O)C(C#N)c1nc2ccccc2nc1N1CCN(CC)CC1/70?format=json\n"
     ]
    }
   ],
   "source": [
    "smile_similar_pairs = [(smile, get_similar_smiles_from_chembl(smile)) for smile in list(train_df['SMILE'])]\r\n",
    "# Creat a list of tupels of smile, (list) the smiles that are similar\r\n",
    "\r\n",
    "# This should take a few minutes to run. using threshold of 70< I choose this arbritarily\r\n"
   ]
  },
  {
   "cell_type": "code",
   "execution_count": 15,
   "metadata": {},
   "outputs": [
    {
     "name": "stdout",
     "output_type": "stream",
     "text": [
      "Wrote 8 lines\n",
      "Wrote 4 lines\n",
      "Wrote 1 lines\n",
      "Wrote 5 lines\n",
      "Wrote 1 lines\n",
      "Wrote 5 lines\n",
      "Wrote 1 lines\n",
      "Wrote 8 lines\n",
      "Wrote 2 lines\n",
      "Wrote 0 lines\n",
      "Wrote 4 lines\n",
      "Wrote 6 lines\n",
      "Wrote 0 lines\n",
      "Wrote 2 lines\n",
      "Wrote 4 lines\n",
      "Wrote 2 lines\n",
      "Wrote 1 lines\n",
      "Wrote 5 lines\n",
      "Request failed: error code: 404\n",
      "CCOC(=O)CSC1=C(C#N)C(C)C2=C(CCCC2=O)N1\n",
      "https://www.ebi.ac.uk/chembl/api/data/similarity/CCOC(=O)CSC1=C(C#N)C(C)C2=C(CCCC2=O)N1/70?format=json\n",
      "Wrote 0 lines\n",
      "Wrote 2 lines\n",
      "Wrote 1 lines\n",
      "Request failed: error code: 404\n",
      "CCSC1=C(C#N)C2(CCCCC2)C(C#N)=C(N)N1\n",
      "https://www.ebi.ac.uk/chembl/api/data/similarity/CCSC1=C(C#N)C2(CCCCC2)C(C#N)=C(N)N1/70?format=json\n",
      "Wrote 0 lines\n",
      "Wrote 1 lines\n",
      "Wrote 3 lines\n",
      "Wrote 2 lines\n",
      "Wrote 3 lines\n",
      "Wrote 4 lines\n",
      "Wrote 5 lines\n",
      "Wrote 1 lines\n",
      "Wrote 1 lines\n",
      "Wrote 3 lines\n",
      "Wrote 1 lines\n",
      "Wrote 7 lines\n",
      "Wrote 2 lines\n",
      "Wrote 1 lines\n",
      "Wrote 10 lines\n",
      "Wrote 3 lines\n",
      "Wrote 8 lines\n",
      "Wrote 5 lines\n",
      "Wrote 2 lines\n",
      "Wrote 2 lines\n",
      "Wrote 8 lines\n",
      "Wrote 2 lines\n",
      "Wrote 3 lines\n",
      "Wrote 7 lines\n",
      "Wrote 4 lines\n",
      "Wrote 1 lines\n",
      "Wrote 0 lines\n",
      "Wrote 3 lines\n",
      "Wrote 2 lines\n",
      "Wrote 0 lines\n",
      "Wrote 0 lines\n",
      "Wrote 4 lines\n",
      "Request failed: error code: 404\n",
      "CN(CCC#N)CC(=O)Nc1ccc(NC(=O)CN(C)CCC#N)cc1\n",
      "https://www.ebi.ac.uk/chembl/api/data/similarity/CN(CCC#N)CC(=O)Nc1ccc(NC(=O)CN(C)CCC#N)cc1/70?format=json\n",
      "Wrote 0 lines\n",
      "Wrote 8 lines\n",
      "Wrote 1 lines\n",
      "Wrote 1 lines\n",
      "Wrote 2 lines\n",
      "Wrote 4 lines\n",
      "Wrote 5 lines\n",
      "Wrote 2 lines\n",
      "Wrote 6 lines\n",
      "Wrote 0 lines\n",
      "Wrote 7 lines\n",
      "Wrote 4 lines\n",
      "Wrote 2 lines\n",
      "Wrote 9 lines\n",
      "Wrote 3 lines\n",
      "Wrote 2 lines\n",
      "Wrote 16 lines\n",
      "Wrote 0 lines\n",
      "Wrote 1 lines\n",
      "Wrote 1 lines\n",
      "Wrote 8 lines\n",
      "Wrote 6 lines\n",
      "Wrote 1 lines\n",
      "Wrote 4 lines\n",
      "Wrote 4 lines\n",
      "Wrote 6 lines\n"
     ]
    }
   ],
   "source": [
    "# there is a much more elegant way to do this since you only need to write them to the file\r\n",
    "with open('data/similar_smiles.csv','x') as f:\r\n",
    "    for smile in list(train_df['SMILE']):\r\n",
    "        smilar = get_similar_smiles_from_chembl(smile)\r\n",
    "        f.writelines(smilar)\r\n",
    "        print(f'Wrote {len(smilar)} lines')\r\n"
   ]
  },
  {
   "cell_type": "markdown",
   "metadata": {},
   "source": [
    "## Save a bunch of similar smiles to the the data/similar_smiles.csv file. You will use this to extract common patterns to generate a dictionary for 1 hot feature encoding."
   ]
  }
 ],
 "metadata": {
  "kernelspec": {
   "display_name": "Python 3.9.5  ('venv': venv)",
   "name": "pythonjvsc74a57bd0319a6e2519d9d5adbb3b90661743b8c856e0470732b2828c1bc6062dd5a9037f"
  },
  "language_info": {
   "codemirror_mode": {
    "name": "ipython",
    "version": 3
   },
   "file_extension": ".py",
   "mimetype": "text/x-python",
   "name": "python",
   "nbconvert_exporter": "python",
   "pygments_lexer": "ipython3",
   "version": "3.9.5"
  },
  "metadata": {
   "interpreter": {
    "hash": "319a6e2519d9d5adbb3b90661743b8c856e0470732b2828c1bc6062dd5a9037f"
   }
  },
  "orig_nbformat": 2
 },
 "nbformat": 4,
 "nbformat_minor": 2
}