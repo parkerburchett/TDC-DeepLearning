{
 "cells": [
  {
   "cell_type": "code",
   "execution_count": 16,
   "metadata": {},
   "outputs": [],
   "source": [
    "# You need to be in this venv .\\venv\\Scripts\\Activate.ps1"
   ]
  },
  {
   "cell_type": "markdown",
   "metadata": {},
   "source": [
    "## Load the data\r\n",
    "\r\n",
    "1. Loads data from pyTDC 'ADME' \r\n",
    "2. Loads data from drug bank\r\n",
    "3. loads data from bio snap\r\n"
   ]
  },
  {
   "cell_type": "code",
   "execution_count": 17,
   "metadata": {},
   "outputs": [
    {
     "name": "stderr",
     "output_type": "stream",
     "text": [
      "Found local copy...\n",
      "Loading...\n",
      "Done!\n"
     ]
    }
   ],
   "source": [
    "from tdc.single_pred import ADME\r\n",
    "import pandas as pd\r\n",
    "data = ADME(name = 'CYP2C19_Veith') # this load the datset. \r\n",
    "\r\n",
    "split = data.get_split()"
   ]
  },
  {
   "cell_type": "code",
   "execution_count": 18,
   "metadata": {},
   "outputs": [
    {
     "data": {
      "text/html": "<div>\n<style scoped>\n    .dataframe tbody tr th:only-of-type {\n        vertical-align: middle;\n    }\n\n    .dataframe tbody tr th {\n        vertical-align: top;\n    }\n\n    .dataframe thead th {\n        text-align: right;\n    }\n</style>\n<table border=\"1\" class=\"dataframe\">\n  <thead>\n    <tr style=\"text-align: right;\">\n      <th></th>\n      <th>Drug_ID</th>\n      <th>Drug</th>\n      <th>Y</th>\n    </tr>\n  </thead>\n  <tbody>\n    <tr>\n      <th>0</th>\n      <td>6602638.0</td>\n      <td>CCCC(=O)Nc1ccc(N2CCN(CC)CC2)c(Cl)c1.Cl</td>\n      <td>0</td>\n    </tr>\n    <tr>\n      <th>1</th>\n      <td>644675.0</td>\n      <td>CC(=O)N(c1ccc2oc(=O)sc2c1)S(=O)(=O)c1cccs1</td>\n      <td>1</td>\n    </tr>\n    <tr>\n      <th>2</th>\n      <td>644851.0</td>\n      <td>Clc1ccccc1-c1nc(-c2ccccc2)n[nH]1</td>\n      <td>1</td>\n    </tr>\n    <tr>\n      <th>3</th>\n      <td>644890.0</td>\n      <td>COc1ccccc1C(c1nnnn1C(C)(C)C)N1CCN(Cc2ccncc2)CC1</td>\n      <td>1</td>\n    </tr>\n    <tr>\n      <th>4</th>\n      <td>644968.0</td>\n      <td>COc1ccccc1CNC(=O)Cn1nnc(-c2ccncc2)n1</td>\n      <td>1</td>\n    </tr>\n    <tr>\n      <th>...</th>\n      <td>...</td>\n      <td>...</td>\n      <td>...</td>\n    </tr>\n    <tr>\n      <th>12660</th>\n      <td>16758814.0</td>\n      <td>CCN1C(=O)[C@@H]2[C@@H](CC[C@@H]3C(=O)C=C[C@@H]...</td>\n      <td>0</td>\n    </tr>\n    <tr>\n      <th>12661</th>\n      <td>16758816.0</td>\n      <td>O=C1[C@H]2CC=C3[C@@H]([C@H](O)[C@H]4O[C@@H]4C3...</td>\n      <td>0</td>\n    </tr>\n    <tr>\n      <th>12662</th>\n      <td>16758817.0</td>\n      <td>CCN1C(=O)[C@H]2CC=C3[C@@H]([C@H](O)[C@H]4O[C@@...</td>\n      <td>1</td>\n    </tr>\n    <tr>\n      <th>12663</th>\n      <td>16758818.0</td>\n      <td>C[C@H](c1ccccc1)N1C(=O)[C@@H]2[C@@H](CC[C@@H]3...</td>\n      <td>0</td>\n    </tr>\n    <tr>\n      <th>12664</th>\n      <td>10847630.0</td>\n      <td>COC(=O)NC/C=C\\c1nc(CCCO)co1</td>\n      <td>0</td>\n    </tr>\n  </tbody>\n</table>\n<p>12665 rows × 3 columns</p>\n</div>",
      "text/plain": "          Drug_ID                                               Drug  Y\n0       6602638.0             CCCC(=O)Nc1ccc(N2CCN(CC)CC2)c(Cl)c1.Cl  0\n1        644675.0         CC(=O)N(c1ccc2oc(=O)sc2c1)S(=O)(=O)c1cccs1  1\n2        644851.0                   Clc1ccccc1-c1nc(-c2ccccc2)n[nH]1  1\n3        644890.0    COc1ccccc1C(c1nnnn1C(C)(C)C)N1CCN(Cc2ccncc2)CC1  1\n4        644968.0               COc1ccccc1CNC(=O)Cn1nnc(-c2ccncc2)n1  1\n...           ...                                                ... ..\n12660  16758814.0  CCN1C(=O)[C@@H]2[C@@H](CC[C@@H]3C(=O)C=C[C@@H]...  0\n12661  16758816.0  O=C1[C@H]2CC=C3[C@@H]([C@H](O)[C@H]4O[C@@H]4C3...  0\n12662  16758817.0  CCN1C(=O)[C@H]2CC=C3[C@@H]([C@H](O)[C@H]4O[C@@...  1\n12663  16758818.0  C[C@H](c1ccccc1)N1C(=O)[C@@H]2[C@@H](CC[C@@H]3...  0\n12664  10847630.0                        COC(=O)NC/C=C\\c1nc(CCCO)co1  0\n\n[12665 rows x 3 columns]"
     },
     "execution_count": 18,
     "metadata": {},
     "output_type": "execute_result"
    }
   ],
   "source": [
    "\r\n",
    "df = pd.read_csv('data\\cyp2c19_veith.tab', sep='\\t')\r\n",
    "df"
   ]
  },
  {
   "cell_type": "code",
   "execution_count": 19,
   "metadata": {},
   "outputs": [
    {
     "name": "stdout",
     "output_type": "stream",
     "text": [
      "                                             SMILE  Target\n",
      "0           CCCC(=O)Nc1ccc(N2CCN(CC)CC2)c(Cl)c1.Cl       0\n",
      "1       CC(=O)N(c1ccc2oc(=O)sc2c1)S(=O)(=O)c1cccs1       1\n",
      "2                 Clc1ccccc1-c1nc(-c2ccccc2)n[nH]1       1\n",
      "3  COc1ccccc1C(c1nnnn1C(C)(C)C)N1CCN(Cc2ccncc2)CC1       1\n",
      "4             COc1ccccc1CNC(=O)Cn1nnc(-c2ccncc2)n1       1\n",
      "(12665, 2)\n"
     ]
    }
   ],
   "source": [
    "cleaned_df = df[['Drug', 'Y']]\r\n",
    "cleaned_df.columns = ['SMILE','Target']\r\n",
    "print(cleaned_df.head())\r\n",
    "print(cleaned_df.shape)\r\n",
    "cleaned_df.to_csv('data\\cleaned_raw_data.csv',index=False)\r\n"
   ]
  },
  {
   "cell_type": "markdown",
   "metadata": {},
   "source": [
    "### data/cleaned_raw_data.csv is the all of the SMILE, target Pairs. "
   ]
  },
  {
   "cell_type": "markdown",
   "metadata": {},
   "source": [
    "# Gather a bunch of smiles that are similar to the smiles in the training data.\r\n",
    "\r\n",
    "https://www.ebi.ac.uk/chembl/api/data/similarity/CN1C(=O)C=C(c2cccc(Cl)c2)c3cc(ccc13)[C@@](N)(c4ccc(Cl)cc4)c5cncn5C/80 \r\n",
    "https://chembl.gitbook.io/chembl-interface-documentation/web-services/chembl-data-web-services"
   ]
  },
  {
   "cell_type": "code",
   "execution_count": 20,
   "metadata": {},
   "outputs": [],
   "source": [
    "import requests\r\n",
    "import json\r\n",
    "\r\n",
    "call = f'https://www.ebi.ac.uk/chembl/api/data/similarity/CN1C(=O)C=C(c2cccc(Cl)c2)c3cc(ccc13)[C@@](N)(c4ccc(Cl)cc4)c5cncn5C/80?format=json'\r\n",
    "\r\n",
    "response = requests.get(call)"
   ]
  },
  {
   "cell_type": "code",
   "execution_count": 21,
   "metadata": {},
   "outputs": [
    {
     "data": {
      "text/plain": "dict_keys(['molecules', 'page_meta'])"
     },
     "execution_count": 21,
     "metadata": {},
     "output_type": "execute_result"
    }
   ],
   "source": [
    "resp_dict =json.loads(response.text)\r\n",
    "resp_dict.keys()"
   ]
  },
  {
   "cell_type": "code",
   "execution_count": 22,
   "metadata": {},
   "outputs": [
    {
     "name": "stdout",
     "output_type": "stream",
     "text": [
      "<class 'list'>\n",
      "8\n",
      "<class 'dict'>\n",
      "dict_keys(['atc_classifications', 'availability_type', 'biotherapeutic', 'black_box_warning', 'chebi_par_id', 'chirality', 'cross_references', 'dosed_ingredient', 'first_approval', 'first_in_class', 'helm_notation', 'indication_class', 'inorganic_flag', 'max_phase', 'molecule_chembl_id', 'molecule_hierarchy', 'molecule_properties', 'molecule_structures', 'molecule_type', 'natural_product', 'oral', 'parenteral', 'polymer_flag', 'pref_name', 'prodrug', 'similarity', 'structure_type', 'therapeutic_flag', 'topical', 'usan_stem', 'usan_stem_definition', 'usan_substem', 'usan_year', 'withdrawn_class', 'withdrawn_country', 'withdrawn_flag', 'withdrawn_reason', 'withdrawn_year'])\n"
     ]
    }
   ],
   "source": [
    "molecules = resp_dict['molecules']\r\n",
    "print(type(molecules))\r\n",
    "print(len(molecules))\r\n",
    "\r\n",
    "for i in molecules[:1]:\r\n",
    "    print(type(molecules[0]))\r\n",
    "    print(molecules[0].keys())"
   ]
  },
  {
   "cell_type": "code",
   "execution_count": 23,
   "metadata": {},
   "outputs": [
    {
     "data": {
      "text/plain": "'Cn1cncc1[C@](N)(c1ccc(Cl)cc1)c1ccc2c(c1)c(-c1cccc(Cl)c1)cc(=O)n2C'"
     },
     "execution_count": 23,
     "metadata": {},
     "output_type": "execute_result"
    }
   ],
   "source": [
    "molecules[0]['molecule_structures']['canonical_smiles']"
   ]
  },
  {
   "cell_type": "code",
   "execution_count": 24,
   "metadata": {},
   "outputs": [],
   "source": [
    "def get_similar_smiles_from_chembl(base_smile:str, similarity_threshold=70):\r\n",
    "    \"\"\"\r\n",
    "        Returns all molecules in the chembal database that are within 70 tanimoto similarity to the base_smile\r\n",
    "        base_smile: str: A smile you want similar smiles to\r\n",
    "        similarity_threshold: The minimum tanimoto similarity of all smiles returned. \r\n",
    "        \r\n",
    "        Returns a list\r\n",
    "\r\n",
    "        Calls this API here\r\n",
    "        https://chembl.gitbook.io/chembl-interface-documentation/web-services/chembl-data-web-services \r\n",
    "        \r\n",
    "    \"\"\"\r\n",
    "    try:\r\n",
    "        call = f'https://www.ebi.ac.uk/chembl/api/data/similarity/{base_smile}/{similarity_threshold}?format=json'\r\n",
    "        response = requests.get(call)\r\n",
    "        molecules = json.loads(response.text)['molecules']\r\n",
    "        similar_smile_strings = [drug['molecule_structures']['canonical_smiles'] for drug in molecules] # select only the smile string\r\n",
    "        return similar_smile_strings\r\n",
    "    except:\r\n",
    "        print('Request Failed:' +str(base_smile))\r\n",
    "        return []\r\n"
   ]
  },
  {
   "cell_type": "code",
   "execution_count": 25,
   "metadata": {},
   "outputs": [],
   "source": [
    "training_df = cleaned_df.loc[:10000,:] # this is about 80% of the data reserved for training. The other 20% is not included. You might want to random shuffle it later\r\n",
    "validaiton_df = cleaned_df.loc[10000:,:]\r\n",
    "training_df.to_csv('data\\in_training_data.csv',index=False)\r\n",
    "validaiton_df.to_csv('data\\in_validation_data.csv',index=False)\r\n",
    "del [training_df, validaiton_df, split, cleaned_df, df] # this removes all references to the validation_data from memory so I have any leakage"
   ]
  },
  {
   "cell_type": "markdown",
   "metadata": {},
   "source": [
    "# This will go through all of the smiles in the entire dataset\r\n",
    "\r\n",
    "To Avoid Leakage I will only use the data in train_df"
   ]
  },
  {
   "cell_type": "code",
   "execution_count": 26,
   "metadata": {},
   "outputs": [
    {
     "name": "stdout",
     "output_type": "stream",
     "text": [
      "                                             SMILE  Target\n",
      "0           CCCC(=O)Nc1ccc(N2CCN(CC)CC2)c(Cl)c1.Cl       0\n",
      "1       CC(=O)N(c1ccc2oc(=O)sc2c1)S(=O)(=O)c1cccs1       1\n",
      "2                 Clc1ccccc1-c1nc(-c2ccccc2)n[nH]1       1\n",
      "3  COc1ccccc1C(c1nnnn1C(C)(C)C)N1CCN(Cc2ccncc2)CC1       1\n",
      "4             COc1ccccc1CNC(=O)Cn1nnc(-c2ccncc2)n1       1\n",
      "(10001, 2)\n"
     ]
    }
   ],
   "source": [
    "train_df  = pd.read_csv('data\\in_training_data.csv')\r\n",
    "print(train_df.head())\r\n",
    "print(train_df.shape)"
   ]
  },
  {
   "cell_type": "code",
   "execution_count": 27,
   "metadata": {},
   "outputs": [],
   "source": [
    "# similar_smiles = [get_similar_smiles_from_chembl(smile,70) for smile in list(train_df['SMILE'])]\r\n",
    "# unique_smiles = set()\r\n",
    "\r\n",
    "# for row in similar_smiles:\r\n",
    "#     for s in row:\r\n",
    "#         unique_smiles.add(s)\r\n",
    "\r\n",
    "# smiles_to_write = pd.Series(list(unique_smiles))\r\n",
    "# # write all the unique smiles to similar_smiles.csv\r\n",
    "# smiles_to_write.to_csv('data\\similar_smiles.csv', index=False, header=['similar_smiles'])\r\n",
    "\r\n",
    "# This is broken. You just need to fix it later. "
   ]
  },
  {
   "cell_type": "code",
   "execution_count": 28,
   "metadata": {},
   "outputs": [],
   "source": [
    "# unique_smiles = set()\r\n",
    "\r\n",
    "# for row in similar_smiles:\r\n",
    "#     for s in row:\r\n",
    "#         unique_smiles.add(s)\r\n",
    "\r\n",
    "# smiles_to_write = pd.Series(list(unique_smiles))\r\n",
    "# # write all the unique smiles to similar_smiles.csv\r\n",
    "# smiles_to_write.to_csv('data\\similar_smiles.csv', index=False, header=['similar_smiles'])"
   ]
  },
  {
   "cell_type": "markdown",
   "metadata": {},
   "source": [
    "## The DeepChem Library has a variety of Molecule Featurizers.\r\n",
    "\r\n",
    "Here I am setting up helper methods for a few different featurizers.\r\n",
    "\r\n",
    "Docs on molecule Featurizers \r\n",
    "\r\n",
    "https://deepchem.readthedocs.io/en/latest/api_reference/featurizers.html#molecule-featurizers\r\n",
    "\r\n",
    "\r\n"
   ]
  }
 ],
 "metadata": {
  "kernelspec": {
   "display_name": "Python 3.9.5  ('venv': venv)",
   "name": "pythonjvsc74a57bd0319a6e2519d9d5adbb3b90661743b8c856e0470732b2828c1bc6062dd5a9037f"
  },
  "language_info": {
   "codemirror_mode": {
    "name": "ipython",
    "version": 3
   },
   "file_extension": ".py",
   "mimetype": "text/x-python",
   "name": "python",
   "nbconvert_exporter": "python",
   "pygments_lexer": "ipython3",
   "version": "3.9.5"
  },
  "metadata": {
   "interpreter": {
    "hash": "319a6e2519d9d5adbb3b90661743b8c856e0470732b2828c1bc6062dd5a9037f"
   }
  },
  "orig_nbformat": 2
 },
 "nbformat": 4,
 "nbformat_minor": 2
}