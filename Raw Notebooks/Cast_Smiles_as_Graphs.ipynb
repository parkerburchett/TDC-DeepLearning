{
  "nbformat": 4,
  "nbformat_minor": 0,
  "metadata": {
    "colab": {
      "name": "Cast Smiles as Graphs.ipynb",
      "provenance": [],
      "collapsed_sections": []
    },
    "kernelspec": {
      "display_name": "Python 3",
      "name": "python3"
    },
    "language_info": {
      "name": "python"
    }
  },
  "cells": [
    {
      "cell_type": "markdown",
      "metadata": {
        "id": "rREB1stp0Dh3"
      },
      "source": [
        "# Notebook to represent Smiles as different kinds of graph objects."
      ]
    },
    {
      "cell_type": "markdown",
      "metadata": {
        "id": "SiizBuxj0b3L"
      },
      "source": [
        "### Dependencies  "
      ]
    },
    {
      "cell_type": "code",
      "metadata": {
        "id": "tBb2Xe4w0C_k"
      },
      "source": [
        "%%capture \n",
        "# %%capture cell magic  makes this cell silent. \n",
        "\n",
        "# torch-geometric is an externsion of torch for working with graphs\n",
        "!pip install -q torch-scatter -f https://pytorch-geometric.com/whl/torch-1.8.0+cu101.html\n",
        "!pip install -q torch-sparse -f https://pytorch-geometric.com/whl/torch-1.8.0+cu101.html\n",
        "!pip install -q torch-geometric\n",
        "# pysmiles\n",
        "!pip install pysmiles\n",
        "\n",
        "# pyTDC is the Therapudic Data Commons \n",
        "!pip install PyTDC\n",
        "!python -m pip install git+https://github.com/EBjerrum/molvecgen\n",
        "\n",
        "\n",
        "# BROKEN\n",
        "# # rdkit\n",
        "# !wget -c https://repo.continuum.io/miniconda/Miniconda3-latest-Linux-x86_64.sh\n",
        "# !chmod +x Miniconda3-latest-Linux-x86_64.sh\n",
        "# !time bash ./Miniconda3-latest-Linux-x86_64.sh -b -f -p /usr/local\n",
        "# !time conda install -q -y -c conda-forge rdkit\n",
        "\n",
        "#### BROKEN see if you can just not use deepchem\n",
        "# deepchem and rdkit. You might not need the one above.\n",
        "# %tensorflow_version 1.x\n",
        "# !wget -c https://repo.anaconda.com/archive/Anaconda3-2019.10-Linux-x86_64.sh\n",
        "# !chmod +x Anaconda3-2019.10-Linux-x86_64.sh\n",
        "# !bash ./Anaconda3-2019.10-Linux-x86_64.sh -b -f -p /usr/local\n",
        "# !conda install -y -c deepchem -c rdkit -c conda-forge -c omnia deepchem-gpu=2.3.0"
      ],
      "execution_count": 1,
      "outputs": []
    },
    {
      "cell_type": "code",
      "metadata": {
        "colab": {
          "base_uri": "https://localhost:8080/"
        },
        "id": "NQuTitbw0ncM",
        "outputId": "1a3f50e9-b9cb-42c5-aec8-387b5c6afc1d"
      },
      "source": [
        "import pandas as pd\n",
        "from tdc.single_pred import ADME\n",
        "\n",
        "data = ADME(name = 'CYP2C9_Veith') # this is the binary molecule problem\n",
        "df = data.get_data()\n",
        "df = df[['Drug','Y']]\n",
        "df['Y'].value_counts() # unbalenced dataset. "
      ],
      "execution_count": 2,
      "outputs": [
        {
          "output_type": "stream",
          "text": [
            "Downloading...\n",
            "100%|██████████| 740k/740k [00:00<00:00, 823kiB/s]\n",
            "Loading...\n",
            "Done!\n"
          ],
          "name": "stderr"
        },
        {
          "output_type": "execute_result",
          "data": {
            "text/plain": [
              "0    8047\n",
              "1    4045\n",
              "Name: Y, dtype: int64"
            ]
          },
          "metadata": {
            "tags": []
          },
          "execution_count": 2
        }
      ]
    },
    {
      "cell_type": "code",
      "metadata": {
        "colab": {
          "base_uri": "https://localhost:8080/",
          "height": 35
        },
        "id": "9xParzO33FcU",
        "outputId": "507b71a6-2e37-45af-d431-84ac07f041de"
      },
      "source": [
        "a_smile = df['Drug'][0]\n",
        "a_smile"
      ],
      "execution_count": 3,
      "outputs": [
        {
          "output_type": "execute_result",
          "data": {
            "application/vnd.google.colaboratory.intrinsic+json": {
              "type": "string"
            },
            "text/plain": [
              "'CCN1C(=O)/C(=C2\\\\SC(=S)N(CCCOC)C2=O)c2ccccc21'"
            ]
          },
          "metadata": {
            "tags": []
          },
          "execution_count": 3
        }
      ]
    },
    {
      "cell_type": "code",
      "metadata": {
        "colab": {
          "base_uri": "https://localhost:8080/"
        },
        "id": "4KhCcJUD9Uxx",
        "outputId": "df1665d3-c0b8-442b-e9f3-43a3b7a1fbe2"
      },
      "source": [
        "# source: https://stackoverflow.com/questions/57062757/how-to-generate-a-graph-from-a-smiles-molecule-representation\n",
        "from pysmiles import read_smiles\n",
        "import networkx as nx\n",
        "    \n",
        "mol = read_smiles(a_smile)\n",
        "print(type(mol))\n",
        "# atom vector (C only)\n",
        "print(mol.nodes(data='element'))\n",
        "# adjacency matrix\n",
        "print(nx.to_numpy_matrix(mol))"
      ],
      "execution_count": 6,
      "outputs": [
        {
          "output_type": "stream",
          "text": [
            "E/Z stereochemical information, which is specified by \"/\", will be discarded\n",
            "E/Z stereochemical information, which is specified by \"\\\", will be discarded\n"
          ],
          "name": "stderr"
        },
        {
          "output_type": "stream",
          "text": [
            "<class 'networkx.classes.graph.Graph'>\n",
            "[(0, 'C'), (1, 'C'), (2, 'N'), (3, 'C'), (4, 'O'), (5, 'C'), (6, 'C'), (7, 'S'), (8, 'C'), (9, 'S'), (10, 'N'), (11, 'C'), (12, 'C'), (13, 'C'), (14, 'O'), (15, 'C'), (16, 'C'), (17, 'O'), (18, 'C'), (19, 'C'), (20, 'C'), (21, 'C'), (22, 'C'), (23, 'C')]\n",
            "[[0. 1. 0. 0. 0. 0. 0. 0. 0. 0. 0. 0. 0. 0. 0. 0. 0. 0. 0. 0. 0. 0. 0. 0.]\n",
            " [1. 0. 1. 0. 0. 0. 0. 0. 0. 0. 0. 0. 0. 0. 0. 0. 0. 0. 0. 0. 0. 0. 0. 0.]\n",
            " [0. 1. 0. 1. 0. 0. 0. 0. 0. 0. 0. 0. 0. 0. 0. 0. 0. 0. 0. 0. 0. 0. 0. 1.]\n",
            " [0. 0. 1. 0. 1. 1. 0. 0. 0. 0. 0. 0. 0. 0. 0. 0. 0. 0. 0. 0. 0. 0. 0. 0.]\n",
            " [0. 0. 0. 1. 0. 0. 0. 0. 0. 0. 0. 0. 0. 0. 0. 0. 0. 0. 0. 0. 0. 0. 0. 0.]\n",
            " [0. 0. 0. 1. 0. 0. 1. 0. 0. 0. 0. 0. 0. 0. 0. 0. 0. 0. 1. 0. 0. 0. 0. 0.]\n",
            " [0. 0. 0. 0. 0. 1. 0. 1. 0. 0. 0. 0. 0. 0. 0. 0. 1. 0. 0. 0. 0. 0. 0. 0.]\n",
            " [0. 0. 0. 0. 0. 0. 1. 0. 1. 0. 0. 0. 0. 0. 0. 0. 0. 0. 0. 0. 0. 0. 0. 0.]\n",
            " [0. 0. 0. 0. 0. 0. 0. 1. 0. 1. 1. 0. 0. 0. 0. 0. 0. 0. 0. 0. 0. 0. 0. 0.]\n",
            " [0. 0. 0. 0. 0. 0. 0. 0. 1. 0. 0. 0. 0. 0. 0. 0. 0. 0. 0. 0. 0. 0. 0. 0.]\n",
            " [0. 0. 0. 0. 0. 0. 0. 0. 1. 0. 0. 1. 0. 0. 0. 0. 1. 0. 0. 0. 0. 0. 0. 0.]\n",
            " [0. 0. 0. 0. 0. 0. 0. 0. 0. 0. 1. 0. 1. 0. 0. 0. 0. 0. 0. 0. 0. 0. 0. 0.]\n",
            " [0. 0. 0. 0. 0. 0. 0. 0. 0. 0. 0. 1. 0. 1. 0. 0. 0. 0. 0. 0. 0. 0. 0. 0.]\n",
            " [0. 0. 0. 0. 0. 0. 0. 0. 0. 0. 0. 0. 1. 0. 1. 0. 0. 0. 0. 0. 0. 0. 0. 0.]\n",
            " [0. 0. 0. 0. 0. 0. 0. 0. 0. 0. 0. 0. 0. 1. 0. 1. 0. 0. 0. 0. 0. 0. 0. 0.]\n",
            " [0. 0. 0. 0. 0. 0. 0. 0. 0. 0. 0. 0. 0. 0. 1. 0. 0. 0. 0. 0. 0. 0. 0. 0.]\n",
            " [0. 0. 0. 0. 0. 0. 1. 0. 0. 0. 1. 0. 0. 0. 0. 0. 0. 1. 0. 0. 0. 0. 0. 0.]\n",
            " [0. 0. 0. 0. 0. 0. 0. 0. 0. 0. 0. 0. 0. 0. 0. 0. 1. 0. 0. 0. 0. 0. 0. 0.]\n",
            " [0. 0. 0. 0. 0. 1. 0. 0. 0. 0. 0. 0. 0. 0. 0. 0. 0. 0. 0. 1. 0. 0. 0. 1.]\n",
            " [0. 0. 0. 0. 0. 0. 0. 0. 0. 0. 0. 0. 0. 0. 0. 0. 0. 0. 1. 0. 1. 0. 0. 0.]\n",
            " [0. 0. 0. 0. 0. 0. 0. 0. 0. 0. 0. 0. 0. 0. 0. 0. 0. 0. 0. 1. 0. 1. 0. 0.]\n",
            " [0. 0. 0. 0. 0. 0. 0. 0. 0. 0. 0. 0. 0. 0. 0. 0. 0. 0. 0. 0. 1. 0. 1. 0.]\n",
            " [0. 0. 0. 0. 0. 0. 0. 0. 0. 0. 0. 0. 0. 0. 0. 0. 0. 0. 0. 0. 0. 1. 0. 1.]\n",
            " [0. 0. 1. 0. 0. 0. 0. 0. 0. 0. 0. 0. 0. 0. 0. 0. 0. 0. 1. 0. 0. 0. 1. 0.]]\n"
          ],
          "name": "stdout"
        }
      ]
    },
    {
      "cell_type": "code",
      "metadata": {
        "colab": {
          "base_uri": "https://localhost:8080/",
          "height": 319
        },
        "id": "BNkRPwC59dFp",
        "outputId": "7026bf48-6b24-4346-c430-a3dbc2389470"
      },
      "source": [
        "import matplotlib.pyplot as plt\n",
        "elements = nx.get_node_attributes(mol, name = \"element\")\n",
        "nx.draw(mol, with_labels=True, labels = elements, pos=nx.spring_layout(mol))\n",
        "plt.gca().set_aspect('equal')"
      ],
      "execution_count": 7,
      "outputs": [
        {
          "output_type": "display_data",
          "data": {
            "image/png": "[encoded data removed]",
            "text/plain": [
              "<Figure size 432x288 with 1 Axes>"
            ]
          },
          "metadata": {
            "tags": []
          }
        }
      ]
    },
    {
      "cell_type": "markdown",
      "metadata": {
        "id": "4f6nrCnb-2ZR"
      },
      "source": [
        "The same code will give you different pictures. "
      ]
    },
    {
      "cell_type": "code",
      "metadata": {
        "colab": {
          "base_uri": "https://localhost:8080/",
          "height": 319
        },
        "id": "_n5Nu7GG-5cR",
        "outputId": "1b2268bd-40fe-41f5-fedb-b1a38ab8512e"
      },
      "source": [
        "elements = nx.get_node_attributes(mol, name = \"element\")\n",
        "nx.draw(mol, with_labels=True, labels = elements, pos=nx.spring_layout(mol))\n",
        "plt.gca().set_aspect('equal')"
      ],
      "execution_count": 8,
      "outputs": [
        {
          "output_type": "display_data",
          "data": {
            "image/png": "[encoded data removed]",
            "text/plain": [
              "<Figure size 432x288 with 1 Axes>"
            ]
          },
          "metadata": {
            "tags": []
          }
        }
      ]
    },
    {
      "cell_type": "code",
      "metadata": {
        "colab": {
          "base_uri": "https://localhost:8080/"
        },
        "id": "TjH_B9VK9gdL",
        "outputId": "f1a57dd5-75d7-4094-d97d-437757bee8af"
      },
      "source": [
        "elements"
      ],
      "execution_count": 9,
      "outputs": [
        {
          "output_type": "execute_result",
          "data": {
            "text/plain": [
              "{0: 'C',\n",
              " 1: 'C',\n",
              " 2: 'N',\n",
              " 3: 'C',\n",
              " 4: 'O',\n",
              " 5: 'C',\n",
              " 6: 'C',\n",
              " 7: 'S',\n",
              " 8: 'C',\n",
              " 9: 'S',\n",
              " 10: 'N',\n",
              " 11: 'C',\n",
              " 12: 'C',\n",
              " 13: 'C',\n",
              " 14: 'O',\n",
              " 15: 'C',\n",
              " 16: 'C',\n",
              " 17: 'O',\n",
              " 18: 'C',\n",
              " 19: 'C',\n",
              " 20: 'C',\n",
              " 21: 'C',\n",
              " 22: 'C',\n",
              " 23: 'C'}"
            ]
          },
          "metadata": {
            "tags": []
          },
          "execution_count": 9
        }
      ]
    },
    {
      "cell_type": "markdown",
      "metadata": {
        "id": "a6nNL4Cr94qD"
      },
      "source": [
        "## Mol is a molecule as a graph object"
      ]
    },
    {
      "cell_type": "code",
      "metadata": {
        "colab": {
          "base_uri": "https://localhost:8080/"
        },
        "id": "E11nWRMc9246",
        "outputId": "0c7e73ae-e576-4fe1-cc48-4a5eac43d021"
      },
      "source": [
        "mol\n",
        "# you might want ot use a MultiGraph where each shared electron \n",
        "#MultiGraph—Undirected graphs with self loops and parallel edges\n",
        "# https://networkx.org/documentation/stable/reference/classes/index.html#which-graph-class-should-i-use "
      ],
      "execution_count": 10,
      "outputs": [
        {
          "output_type": "execute_result",
          "data": {
            "text/plain": [
              "<networkx.classes.graph.Graph at 0x7fd9c7a52a10>"
            ]
          },
          "metadata": {
            "tags": []
          },
          "execution_count": 10
        }
      ]
    },
    {
      "cell_type": "code",
      "metadata": {
        "id": "OAfH4yf2-emT"
      },
      "source": [
        "adj = mol.adjacency() # https://networkx.org/documentation/stable/reference/classes/generated/networkx.Graph.adjacency.html#networkx.Graph.adjacency \n"
      ],
      "execution_count": 11,
      "outputs": []
    },
    {
      "cell_type": "code",
      "metadata": {
        "colab": {
          "base_uri": "https://localhost:8080/"
        },
        "id": "8ptMLbmN-ef6",
        "outputId": "3ea87f52-139b-45a7-a93a-705b4f166a33"
      },
      "source": [
        "[(n, nbrdict) for n, nbrdict in adj]"
      ],
      "execution_count": 12,
      "outputs": [
        {
          "output_type": "execute_result",
          "data": {
            "text/plain": [
              "[(0, {1: {'order': 1}}),\n",
              " (1, {0: {'order': 1}, 2: {'order': 1}}),\n",
              " (2, {1: {'order': 1}, 3: {'order': 1}, 23: {'order': 1}}),\n",
              " (3, {2: {'order': 1}, 4: {'order': 2}, 5: {'order': 1}}),\n",
              " (4, {3: {'order': 2}}),\n",
              " (5, {3: {'order': 1}, 6: {'order': 2}, 18: {'order': 1}}),\n",
              " (6, {5: {'order': 2}, 7: {'order': 1.5}, 16: {'order': 1.5}}),\n",
              " (7, {6: {'order': 1.5}, 8: {'order': 1.5}}),\n",
              " (8, {7: {'order': 1.5}, 9: {'order': 2}, 10: {'order': 1.5}}),\n",
              " (9, {8: {'order': 2}}),\n",
              " (10, {8: {'order': 1.5}, 11: {'order': 1}, 16: {'order': 1.5}}),\n",
              " (11, {10: {'order': 1}, 12: {'order': 1}}),\n",
              " (12, {11: {'order': 1}, 13: {'order': 1}}),\n",
              " (13, {12: {'order': 1}, 14: {'order': 1}}),\n",
              " (14, {13: {'order': 1}, 15: {'order': 1}}),\n",
              " (15, {14: {'order': 1}}),\n",
              " (16, {6: {'order': 1.5}, 10: {'order': 1.5}, 17: {'order': 2}}),\n",
              " (17, {16: {'order': 2}}),\n",
              " (18, {5: {'order': 1}, 19: {'order': 1.5}, 23: {'order': 1.5}}),\n",
              " (19, {18: {'order': 1.5}, 20: {'order': 1.5}}),\n",
              " (20, {19: {'order': 1.5}, 21: {'order': 1.5}}),\n",
              " (21, {20: {'order': 1.5}, 22: {'order': 1.5}}),\n",
              " (22, {21: {'order': 1.5}, 23: {'order': 1.5}}),\n",
              " (23, {2: {'order': 1}, 18: {'order': 1.5}, 22: {'order': 1.5}})]"
            ]
          },
          "metadata": {
            "tags": []
          },
          "execution_count": 12
        }
      ]
    },
    {
      "cell_type": "markdown",
      "metadata": {
        "id": "zqXG6_prAADp"
      },
      "source": [
        "https://github.com/pckroon/pysmiles/blob/master/pysmiles/read_smiles.py\n",
        "\n",
        "This is what each mol graph is\n",
        "\n",
        "A graph describing a molecule. Nodes will have an 'element', 'aromatic'\n",
        "        and a 'charge', and if `explicit_hydrogen` is False a 'hcount'.\n",
        "        Depending on the input, they will also have 'isotope' and 'class'\n",
        "        information.\n",
        "        Edges will have an 'order'."
      ]
    },
    {
      "cell_type": "code",
      "metadata": {
        "colab": {
          "base_uri": "https://localhost:8080/"
        },
        "id": "fmi0WJrP_-7K",
        "outputId": "684c99d4-342d-41fd-a628-3ebffa9dc84e"
      },
      "source": [
        "mol = read_smiles(a_smile)\n",
        "# each \n",
        "aromatic = mol.nodes(data='aromatic') # not sure what this is\n",
        "elements = mol.nodes(data='element')\n",
        "charges = mol.nodes(data='charge')\n",
        "charges"
      ],
      "execution_count": 13,
      "outputs": [
        {
          "output_type": "stream",
          "text": [
            "E/Z stereochemical information, which is specified by \"/\", will be discarded\n",
            "E/Z stereochemical information, which is specified by \"\\\", will be discarded\n"
          ],
          "name": "stderr"
        },
        {
          "output_type": "execute_result",
          "data": {
            "text/plain": [
              "NodeDataView({0: 0, 1: 0, 2: 0, 3: 0, 4: 0, 5: 0, 6: 0, 7: 0, 8: 0, 9: 0, 10: 0, 11: 0, 12: 0, 13: 0, 14: 0, 15: 0, 16: 0, 17: 0, 18: 0, 19: 0, 20: 0, 21: 0, 22: 0, 23: 0}, data='charge')"
            ]
          },
          "metadata": {
            "tags": []
          },
          "execution_count": 13
        }
      ]
    },
    {
      "cell_type": "code",
      "metadata": {
        "colab": {
          "base_uri": "https://localhost:8080/"
        },
        "id": "er5cHp5dA4rD",
        "outputId": "b02eb4de-20ef-4dc4-a21f-b8bdfa1e359f"
      },
      "source": [
        "nodes = list(mol.nodes)\n",
        "nodes"
      ],
      "execution_count": 14,
      "outputs": [
        {
          "output_type": "execute_result",
          "data": {
            "text/plain": [
              "[0,\n",
              " 1,\n",
              " 2,\n",
              " 3,\n",
              " 4,\n",
              " 5,\n",
              " 6,\n",
              " 7,\n",
              " 8,\n",
              " 9,\n",
              " 10,\n",
              " 11,\n",
              " 12,\n",
              " 13,\n",
              " 14,\n",
              " 15,\n",
              " 16,\n",
              " 17,\n",
              " 18,\n",
              " 19,\n",
              " 20,\n",
              " 21,\n",
              " 22,\n",
              " 23]"
            ]
          },
          "metadata": {
            "tags": []
          },
          "execution_count": 14
        }
      ]
    },
    {
      "cell_type": "code",
      "metadata": {
        "id": "u1mvZZaiFE8K"
      },
      "source": [
        "# https://python-jgrapht.readthedocs.io/en/jgrapht-1.5.0.3/api/algorithms/coloring.html"
      ],
      "execution_count": 15,
      "outputs": []
    },
    {
      "cell_type": "code",
      "metadata": {
        "colab": {
          "base_uri": "https://localhost:8080/"
        },
        "id": "1_Z3k8agGQAZ",
        "outputId": "a77fea7c-0994-422b-889d-29bfb98cd9d2"
      },
      "source": [
        "!pip install grakel\n",
        "# https://github.com/ysig/GraKeL"
      ],
      "execution_count": 16,
      "outputs": [
        {
          "output_type": "stream",
          "text": [
            "Collecting grakel\n",
            "\u001b[?25l  Downloading https://files.pythonhosted.org/packages/36/c0/89ad5326d4a75f5abe9a6a7a7d28988e5b51692d9902239f56e43c296ae0/grakel-0.1.8-cp37-cp37m-manylinux2010_x86_64.whl (1.6MB)\n",
            "\u001b[K     |████████████████████████████████| 1.6MB 4.3MB/s \n",
            "\u001b[?25hRequirement already satisfied: cython>=0.27.3 in /usr/local/lib/python3.7/dist-packages (from grakel) (0.29.23)\n",
            "Requirement already satisfied: joblib in /usr/local/lib/python3.7/dist-packages (from grakel) (1.0.1)\n",
            "Requirement already satisfied: future>=0.16.0 in /usr/local/lib/python3.7/dist-packages (from grakel) (0.16.0)\n",
            "Collecting nose>=1.1.2\n",
            "\u001b[?25l  Downloading https://files.pythonhosted.org/packages/15/d8/dd071918c040f50fa1cf80da16423af51ff8ce4a0f2399b7bf8de45ac3d9/nose-1.3.7-py3-none-any.whl (154kB)\n",
            "\u001b[K     |████████████████████████████████| 163kB 39.4MB/s \n",
            "\u001b[?25hRequirement already satisfied: numpy>=1.14.0 in /usr/local/lib/python3.7/dist-packages (from grakel) (1.19.5)\n",
            "Requirement already satisfied: six>=1.11.0 in /usr/local/lib/python3.7/dist-packages (from grakel) (1.15.0)\n",
            "Requirement already satisfied: scikit-learn>=0.19 in /usr/local/lib/python3.7/dist-packages (from grakel) (0.22.2.post1)\n",
            "Requirement already satisfied: scipy>=0.17.0 in /usr/local/lib/python3.7/dist-packages (from scikit-learn>=0.19->grakel) (1.4.1)\n",
            "Installing collected packages: nose, grakel\n",
            "Successfully installed grakel-0.1.8 nose-1.3.7\n"
          ],
          "name": "stdout"
        }
      ]
    },
    {
      "cell_type": "code",
      "metadata": {
        "id": "NtkKOrBrGyeh"
      },
      "source": [
        "from grakel.datasets import fetch_dataset\n",
        "# source: https://ysig.github.io/GraKeL/0.1a8/documentation/introduction.html#performing-graph-classification\n",
        "# just copy pasted\n",
        "MUTAG = fetch_dataset(\"MUTAG\", verbose=False)\n",
        "G = MUTAG.data\n",
        "y = MUTAG.target\n",
        "\n",
        "\n",
        "# the elements of G are a "
      ],
      "execution_count": 17,
      "outputs": []
    },
    {
      "cell_type": "code",
      "metadata": {
        "colab": {
          "base_uri": "https://localhost:8080/"
        },
        "id": "7CWa4FygKlRZ",
        "outputId": "f7e816d6-e493-467b-82bc-2d84b40cf825"
      },
      "source": [
        "print(G[0][0]) # this is a set of links\n",
        "print(type(G[0][0]))\n",
        "print(G[0][1]) # this is a dictionary of NODE attributes\n",
        "print(type(G[0][1]))\n",
        "print(G[0][2]) # this is a dictionary of Edge Attributes\n",
        "print(type(G[0][2]))"
      ],
      "execution_count": 18,
      "outputs": [
        {
          "output_type": "stream",
          "text": [
            "{(15, 13), (10, 11), (5, 6), (9, 8), (2, 1), (14, 13), (8, 9), (15, 16), (1, 6), (14, 9), (17, 15), (1, 2), (11, 10), (13, 12), (12, 13), (16, 15), (3, 4), (10, 9), (4, 10), (3, 2), (5, 4), (9, 14), (10, 4), (4, 5), (13, 15), (9, 10), (7, 5), (2, 3), (8, 7), (12, 11), (11, 12), (6, 5), (15, 17), (13, 14), (6, 1), (5, 7), (4, 3), (7, 8)}\n",
            "<class 'set'>\n",
            "{1: 0, 2: 0, 3: 0, 4: 0, 5: 0, 6: 0, 7: 0, 8: 0, 9: 0, 10: 0, 11: 0, 12: 0, 13: 0, 14: 0, 15: 1, 16: 2, 17: 2}\n",
            "<class 'dict'>\n",
            "{(2, 1): 0, (1, 2): 0, (3, 2): 0, (2, 3): 0, (4, 3): 0, (3, 4): 0, (5, 4): 0, (4, 5): 0, (6, 5): 0, (5, 6): 0, (6, 1): 0, (1, 6): 0, (7, 5): 0, (5, 7): 0, (8, 7): 0, (7, 8): 0, (9, 8): 0, (8, 9): 0, (10, 9): 0, (9, 10): 0, (10, 4): 0, (4, 10): 0, (11, 10): 0, (10, 11): 0, (12, 11): 0, (11, 12): 0, (13, 12): 0, (12, 13): 0, (14, 13): 0, (13, 14): 0, (14, 9): 0, (9, 14): 0, (15, 13): 1, (13, 15): 1, (16, 15): 2, (15, 16): 2, (17, 15): 1, (15, 17): 1}\n",
            "<class 'dict'>\n"
          ],
          "name": "stdout"
        }
      ]
    },
    {
      "cell_type": "markdown",
      "metadata": {
        "id": "rFOvQSTQLQ-4"
      },
      "source": [
        "### In order to use the grakel Transformer you need\n",
        "\n",
        "1. A set of edges\n",
        "2. A dict of node attributes\n",
        "3. A dict of edge attribures"
      ]
    },
    {
      "cell_type": "code",
      "metadata": {
        "id": "Az_PDe-FG7TT"
      },
      "source": [
        "from grakel.kernels import WeisfeilerLehman, VertexHistogram\n",
        "wl_kernel = WeisfeilerLehman(n_iter=5, normalize=True, base_graph_kernel=VertexHistogram)"
      ],
      "execution_count": 19,
      "outputs": []
    },
    {
      "cell_type": "code",
      "metadata": {
        "colab": {
          "base_uri": "https://localhost:8080/"
        },
        "id": "nDs7Oom5G_Ep",
        "outputId": "b2ee2848-1489-4c0d-caa8-0526a0058909"
      },
      "source": [
        "from sklearn.model_selection import train_test_split\n",
        "G_train, G_test, y_train, y_test = train_test_split(G, y, test_size=0.1, random_state=42)\n",
        "y # just an array of targets. "
      ],
      "execution_count": 20,
      "outputs": [
        {
          "output_type": "execute_result",
          "data": {
            "text/plain": [
              "array([ 1, -1, -1,  1, -1,  1, -1,  1, -1,  1,  1,  1,  1, -1,  1,  1, -1,\n",
              "        1, -1,  1,  1,  1,  1,  1,  1,  1,  1,  1,  1,  1,  1,  1,  1, -1,\n",
              "        1, -1,  1, -1, -1, -1,  1, -1,  1,  1,  1,  1,  1,  1,  1,  1,  1,\n",
              "        1,  1,  1, -1,  1,  1,  1,  1,  1,  1, -1,  1,  1, -1, -1,  1,  1,\n",
              "        1, -1,  1,  1, -1,  1,  1, -1, -1, -1,  1,  1,  1,  1,  1, -1,  1,\n",
              "        1,  1, -1, -1,  1,  1,  1,  1,  1,  1,  1,  1, -1,  1, -1,  1,  1,\n",
              "        1,  1,  1,  1,  1,  1,  1, -1, -1,  1, -1, -1,  1, -1,  1,  1, -1,\n",
              "       -1,  1,  1, -1, -1,  1,  1,  1,  1, -1, -1, -1, -1, -1,  1, -1,  1,\n",
              "        1, -1, -1,  1, -1, -1, -1, -1,  1,  1, -1,  1,  1, -1,  1,  1,  1,\n",
              "       -1, -1, -1,  1,  1,  1, -1,  1,  1,  1,  1,  1,  1,  1, -1,  1,  1,\n",
              "        1,  1,  1,  1, -1,  1,  1,  1, -1,  1, -1, -1,  1,  1, -1, -1,  1,\n",
              "       -1])"
            ]
          },
          "metadata": {
            "tags": []
          },
          "execution_count": 20
        }
      ]
    },
    {
      "cell_type": "code",
      "metadata": {
        "colab": {
          "base_uri": "https://localhost:8080/"
        },
        "id": "wizOgU64HF3o",
        "outputId": "2c375472-5255-4c3f-d8bc-a6591b371a2f"
      },
      "source": [
        "K_train = wl_kernel.fit_transform(G_train)\n",
        "print(K_train[0])\n",
        "K_train.shape"
      ],
      "execution_count": 21,
      "outputs": [
        {
          "output_type": "stream",
          "text": [
            "[1.         0.73435802 0.73903538 0.67580622 0.72547625 0.67275093\n",
            " 0.70682936 0.59217719 0.72525546 0.7243685  0.72492295 0.65005079\n",
            " 0.71694145 0.64528535 0.63293787 0.61975118 0.64528535 0.73314905\n",
            " 0.53062138 0.65565787 0.64290332 0.673636   0.62005816 0.63496323\n",
            " 0.75996853 0.64635961 0.64528535 0.6360431  0.7252622  0.69552204\n",
            " 0.71304817 0.81481481 0.63577527 0.73873571 0.67930409 0.73695553\n",
            " 0.64664401 0.66910804 0.57389483 0.66559918 0.64281112 0.64549722\n",
            " 0.65406548 0.69334428 0.66240091 0.65144663 0.66358173 0.71647794\n",
            " 0.63915558 0.64684623 0.67179409 0.64549722 0.72586064 0.68333333\n",
            " 0.72361644 0.65716018 0.68188405 0.70287476 0.65327458 0.72009521\n",
            " 0.64664401 0.56444501 0.69501844 0.6292464  0.68569607 0.66712438\n",
            " 0.65144663 0.63870856 0.63745526 0.73914469 0.6379134  0.70060375\n",
            " 0.65366536 0.6438003  0.65983589 0.66209727 0.70833333 0.63836029\n",
            " 0.70278193 0.75       0.72009521 0.70712009 0.67536049 0.65366536\n",
            " 0.56699487 0.58327912 0.70608667 0.64332523 0.63788795 0.64915266\n",
            " 0.71004695 0.72123865 0.68290665 0.65005079 0.65638391 0.69061839\n",
            " 0.66124337 0.56444501 0.72586064 0.69144514 0.67757876 0.71508223\n",
            " 0.70060375 0.54845432 0.64528535 0.5923603  0.77506055 0.64293062\n",
            " 0.64709843 0.6513277  0.611398   0.67269158 0.49691893 0.63541071\n",
            " 0.65219197 0.73916687 0.72207769 0.66275656 0.63745526 0.6809206\n",
            " 0.64578501 0.67095948 0.63989036 0.6900946  0.80125769 0.69267965\n",
            " 0.64473081 0.64205788 0.71589607 0.68944066 0.68563645 0.64754915\n",
            " 0.65002374 0.70624201 0.74729787 0.66320382 0.6359727  0.68547006\n",
            " 0.59848737 0.64549722 0.70582183 0.73914469 0.72009521 0.65316394\n",
            " 0.68547006 0.69176343 0.63536978 0.65792226 0.73814822 0.70187689\n",
            " 0.68188405 0.75259896 0.51388889 0.6649375  0.69642575 0.63989036\n",
            " 0.73786479 0.76144016 0.67095948 0.66322289 0.63595145 0.75904668\n",
            " 0.7581756  0.71598149 0.71365032 0.62886664 0.63577527 0.65695235\n",
            " 0.63745526]\n"
          ],
          "name": "stdout"
        },
        {
          "output_type": "execute_result",
          "data": {
            "text/plain": [
              "(169, 169)"
            ]
          },
          "metadata": {
            "tags": []
          },
          "execution_count": 21
        }
      ]
    },
    {
      "cell_type": "code",
      "metadata": {
        "colab": {
          "base_uri": "https://localhost:8080/"
        },
        "id": "6ilJ-Av8HIM5",
        "outputId": "3fc5fc26-17c7-4ee1-c349-88bc25afe873"
      },
      "source": [
        "K_test = wl_kernel.transform(G_test)\n",
        "K_test.shape # this is an array of the kernal of each graph"
      ],
      "execution_count": 22,
      "outputs": [
        {
          "output_type": "execute_result",
          "data": {
            "text/plain": [
              "(19, 169)"
            ]
          },
          "metadata": {
            "tags": []
          },
          "execution_count": 22
        }
      ]
    },
    {
      "cell_type": "code",
      "metadata": {
        "id": "Ec9Xv-u5HJxJ"
      },
      "source": [
        "from sklearn.svm import SVC\n",
        "clf = SVC(kernel='precomputed')\n",
        "clf.fit(K_train, y_train)\n",
        "SVC(kernel='precomputed')\n",
        "\n",
        "y_pred = clf.predict(K_test)"
      ],
      "execution_count": 23,
      "outputs": []
    },
    {
      "cell_type": "code",
      "metadata": {
        "colab": {
          "base_uri": "https://localhost:8080/"
        },
        "id": "AspEMResHPdy",
        "outputId": "48764b63-0d5b-4d0a-9848-dbe27300b68f"
      },
      "source": [
        "y_pred"
      ],
      "execution_count": 24,
      "outputs": [
        {
          "output_type": "execute_result",
          "data": {
            "text/plain": [
              "array([ 1,  1, -1,  1,  1,  1,  1,  1, -1, -1,  1, -1,  1,  1, -1,  1, -1,\n",
              "        1,  1])"
            ]
          },
          "metadata": {
            "tags": []
          },
          "execution_count": 24
        }
      ]
    },
    {
      "cell_type": "code",
      "metadata": {
        "colab": {
          "base_uri": "https://localhost:8080/"
        },
        "id": "Zo5vHkOXHTag",
        "outputId": "a19a9c1f-9b46-4320-95cb-1c6a945e459e"
      },
      "source": [
        "from sklearn.metrics import accuracy_score\n",
        "print(\"%2.2f %%\" %(round(accuracy_score(y_test, y_pred)*100)))"
      ],
      "execution_count": 25,
      "outputs": [
        {
          "output_type": "stream",
          "text": [
            "84.00 %\n"
          ],
          "name": "stdout"
        }
      ]
    },
    {
      "cell_type": "code",
      "metadata": {
        "id": "i2vvAk4-HXZA"
      },
      "source": [
        "import scipy as sp"
      ],
      "execution_count": 26,
      "outputs": []
    },
    {
      "cell_type": "code",
      "metadata": {
        "colab": {
          "base_uri": "https://localhost:8080/"
        },
        "id": "0iPhbwjaHhY4",
        "outputId": "330b67d6-ff41-46f1-8e68-c4424deadb11"
      },
      "source": [
        "G =read_smiles(a_smile)"
      ],
      "execution_count": 27,
      "outputs": [
        {
          "output_type": "stream",
          "text": [
            "E/Z stereochemical information, which is specified by \"/\", will be discarded\n",
            "E/Z stereochemical information, which is specified by \"\\\", will be discarded\n"
          ],
          "name": "stderr"
        }
      ]
    },
    {
      "cell_type": "code",
      "metadata": {
        "colab": {
          "base_uri": "https://localhost:8080/"
        },
        "id": "zbUFGCYyJRdI",
        "outputId": "22355b34-207e-4042-e57e-b1e59cc8aaf9"
      },
      "source": [
        "node_data = dict(G.nodes(data=True))\n",
        "node_data"
      ],
      "execution_count": 28,
      "outputs": [
        {
          "output_type": "execute_result",
          "data": {
            "text/plain": [
              "{0: {'aromatic': False, 'charge': 0, 'element': 'C', 'hcount': 3},\n",
              " 1: {'aromatic': False, 'charge': 0, 'element': 'C', 'hcount': 2},\n",
              " 2: {'aromatic': False, 'charge': 0, 'element': 'N', 'hcount': 0},\n",
              " 3: {'aromatic': False, 'charge': 0, 'element': 'C', 'hcount': 0},\n",
              " 4: {'aromatic': False, 'charge': 0, 'element': 'O', 'hcount': 0},\n",
              " 5: {'aromatic': False, 'charge': 0, 'element': 'C', 'hcount': 0},\n",
              " 6: {'aromatic': True, 'charge': 0, 'element': 'C', 'hcount': 0},\n",
              " 7: {'aromatic': True, 'charge': 0, 'element': 'S', 'hcount': 0},\n",
              " 8: {'aromatic': True, 'charge': 0, 'element': 'C', 'hcount': 0},\n",
              " 9: {'aromatic': False, 'charge': 0, 'element': 'S', 'hcount': 0},\n",
              " 10: {'aromatic': True, 'charge': 0, 'element': 'N', 'hcount': 0},\n",
              " 11: {'aromatic': False, 'charge': 0, 'element': 'C', 'hcount': 2},\n",
              " 12: {'aromatic': False, 'charge': 0, 'element': 'C', 'hcount': 2},\n",
              " 13: {'aromatic': False, 'charge': 0, 'element': 'C', 'hcount': 2},\n",
              " 14: {'aromatic': False, 'charge': 0, 'element': 'O', 'hcount': 0},\n",
              " 15: {'aromatic': False, 'charge': 0, 'element': 'C', 'hcount': 3},\n",
              " 16: {'aromatic': True, 'charge': 0, 'element': 'C', 'hcount': 0},\n",
              " 17: {'aromatic': False, 'charge': 0, 'element': 'O', 'hcount': 0},\n",
              " 18: {'aromatic': True, 'charge': 0, 'element': 'C', 'hcount': 0},\n",
              " 19: {'aromatic': True, 'charge': 0, 'element': 'C', 'hcount': 1},\n",
              " 20: {'aromatic': True, 'charge': 0, 'element': 'C', 'hcount': 1},\n",
              " 21: {'aromatic': True, 'charge': 0, 'element': 'C', 'hcount': 1},\n",
              " 22: {'aromatic': True, 'charge': 0, 'element': 'C', 'hcount': 1},\n",
              " 23: {'aromatic': True, 'charge': 0, 'element': 'C', 'hcount': 0}}"
            ]
          },
          "metadata": {
            "tags": []
          },
          "execution_count": 28
        }
      ]
    },
    {
      "cell_type": "code",
      "metadata": {
        "colab": {
          "base_uri": "https://localhost:8080/"
        },
        "id": "gL4KCzvwJWoA",
        "outputId": "df400fc2-57a5-49d1-b73f-0a61b59cf16c"
      },
      "source": [
        "edge_data = G.edges(data=True)\n",
        "list(edge_data)"
      ],
      "execution_count": 29,
      "outputs": [
        {
          "output_type": "execute_result",
          "data": {
            "text/plain": [
              "[(0, 1, {'order': 1}),\n",
              " (1, 2, {'order': 1}),\n",
              " (2, 3, {'order': 1}),\n",
              " (2, 23, {'order': 1}),\n",
              " (3, 4, {'order': 2}),\n",
              " (3, 5, {'order': 1}),\n",
              " (5, 6, {'order': 2}),\n",
              " (5, 18, {'order': 1}),\n",
              " (6, 7, {'order': 1.5}),\n",
              " (6, 16, {'order': 1.5}),\n",
              " (7, 8, {'order': 1.5}),\n",
              " (8, 9, {'order': 2}),\n",
              " (8, 10, {'order': 1.5}),\n",
              " (10, 11, {'order': 1}),\n",
              " (10, 16, {'order': 1.5}),\n",
              " (11, 12, {'order': 1}),\n",
              " (12, 13, {'order': 1}),\n",
              " (13, 14, {'order': 1}),\n",
              " (14, 15, {'order': 1}),\n",
              " (16, 17, {'order': 2}),\n",
              " (18, 19, {'order': 1.5}),\n",
              " (18, 23, {'order': 1.5}),\n",
              " (19, 20, {'order': 1.5}),\n",
              " (20, 21, {'order': 1.5}),\n",
              " (21, 22, {'order': 1.5}),\n",
              " (22, 23, {'order': 1.5})]"
            ]
          },
          "metadata": {
            "tags": []
          },
          "execution_count": 29
        }
      ]
    },
    {
      "cell_type": "code",
      "metadata": {
        "id": "_H_L05mYJaNF"
      },
      "source": [
        "mol_edges = set(mol.edges)\n",
        "mol_node_attributes = dict(mol.nodes(data='charge')) #simple version use data=True to get more node attribues\n",
        "mol_edge_attributes = {edge: 0 for edge in mol_edges}\n",
        "\n",
        "mol_for_kernel = [mol_edges, mol_node_attributes,mol_edge_attributes] # use this for kernel transformation\n",
        "mol_for_kernel;"
      ],
      "execution_count": 30,
      "outputs": []
    },
    {
      "cell_type": "code",
      "metadata": {
        "colab": {
          "base_uri": "https://localhost:8080/"
        },
        "id": "t99gbNURNk-o",
        "outputId": "09f79946-09c0-4881-e50e-43ca34d893a8"
      },
      "source": [
        "\n",
        "print(mol_for_kernel[0])\n",
        "print(G[0])"
      ],
      "execution_count": 34,
      "outputs": [
        {
          "output_type": "stream",
          "text": [
            "{(10, 11), (22, 23), (5, 6), (8, 9), (18, 19), (1, 2), (16, 17), (18, 23), (6, 7), (12, 13), (20, 21), (5, 18), (8, 10), (2, 23), (3, 4), (2, 3), (14, 15), (11, 12), (19, 20), (3, 5), (0, 1), (13, 14), (10, 16), (21, 22), (7, 8), (6, 16)}\n",
            "{1: {'order': 1}}\n"
          ],
          "name": "stdout"
        }
      ]
    },
    {
      "cell_type": "code",
      "metadata": {
        "colab": {
          "base_uri": "https://localhost:8080/"
        },
        "id": "QcMRf17mN6E4",
        "outputId": "33000f24-392d-4ce8-dbb9-47b7a232df1a"
      },
      "source": [
        "print(G[0][1])\n",
        "print(mol_for_kernel[1])\n",
        "type(G[0][1]) == type(mol_for_kernel[1])"
      ],
      "execution_count": 35,
      "outputs": [
        {
          "output_type": "stream",
          "text": [
            "{'order': 1}\n",
            "{0: 0, 1: 0, 2: 0, 3: 0, 4: 0, 5: 0, 6: 0, 7: 0, 8: 0, 9: 0, 10: 0, 11: 0, 12: 0, 13: 0, 14: 0, 15: 0, 16: 0, 17: 0, 18: 0, 19: 0, 20: 0, 21: 0, 22: 0, 23: 0}\n"
          ],
          "name": "stdout"
        },
        {
          "output_type": "execute_result",
          "data": {
            "text/plain": [
              "True"
            ]
          },
          "metadata": {
            "tags": []
          },
          "execution_count": 35
        }
      ]
    },
    {
      "cell_type": "code",
      "metadata": {
        "id": "O4VbZVQ6NSLx"
      },
      "source": [
        "# kernal_of_mol = wl_kernel.fit_transform(mol_for_kernel)\n",
        "# you need lots of molecules to get kernels\n",
        "def convert_list_of_smiles_to_mols(smiles_list):\n",
        "  mols =[]\n",
        "\n",
        "  for s in smiles_list:\n",
        "    a_mol = read_smiles(smiles=s)\n",
        "    mol_edges = set(a_mol.edges)\n",
        "    mol_node_attributes = dict(a_mol.nodes(data='element')) #simple version use data=True to get more node attribues\n",
        "    mol_edge_attributes = {edge: 0 for edge in mol_edges}\n",
        "    mol_for_kernel = [mol_edges, mol_node_attributes,mol_edge_attributes] # use this for kernel transformation\n",
        "    mols.append(mol_for_kernel)\n",
        "\n",
        "  return mols\n"
      ],
      "execution_count": 38,
      "outputs": []
    },
    {
      "cell_type": "code",
      "metadata": {
        "id": "b5SnczHbQCjf"
      },
      "source": [
        "%%capture\n",
        "smiles = list(df.Drug)[:1000]# Only do first 1000 out of 12,000 for speed\n",
        "mols = convert_list_of_smiles_to_mols(smiles);\n",
        "len(mols);\n",
        "\n",
        "# you now have 100 graphs of the mols in pyTDC "
      ],
      "execution_count": 49,
      "outputs": []
    },
    {
      "cell_type": "code",
      "metadata": {
        "colab": {
          "base_uri": "https://localhost:8080/"
        },
        "id": "M8FhdYbTSDrG",
        "outputId": "df7f1671-59e4-4bc1-f3d2-0d559a52d6f4"
      },
      "source": [
        "G_train, G_test, y_train, y_test = train_test_split(mols, list(df.Y)[:1000], test_size=0.2, random_state=42)\n",
        "print(len(G_train))\n",
        "print(len(G_test))\n",
        "print(len(y_train))\n",
        "print(len(y_test))\n"
      ],
      "execution_count": 50,
      "outputs": [
        {
          "output_type": "stream",
          "text": [
            "800\n",
            "200\n",
            "800\n",
            "200\n"
          ],
          "name": "stdout"
        }
      ]
    },
    {
      "cell_type": "code",
      "metadata": {
        "id": "CsF8w6wpSid-"
      },
      "source": [
        "py_tdc_kernel =  WeisfeilerLehman(n_iter=5, normalize=False, base_graph_kernel=VertexHistogram)\n",
        "\n",
        "train_kernels  = py_tdc_kernel.fit_transform(G_train) # train the kernal encoder on the training dataset\n",
        "\n",
        "test_kernels = py_tdc_kernel.transform(G_test)"
      ],
      "execution_count": 54,
      "outputs": []
    },
    {
      "cell_type": "code",
      "metadata": {
        "id": "CccbEV1QVx4g"
      },
      "source": [
        "# generic model with no tuning\n",
        "\n",
        "clf = SVC(kernel='precomputed')\n",
        "clf.fit(train_kernels, y_train)\n",
        "SVC(kernel='precomputed')\n",
        "y_test_pred = clf.predict(test_kernels)\n",
        "\n"
      ],
      "execution_count": 55,
      "outputs": []
    },
    {
      "cell_type": "code",
      "metadata": {
        "colab": {
          "base_uri": "https://localhost:8080/"
        },
        "id": "YtXB7Q9DWc99",
        "outputId": "d0bca8bd-c6ef-4ab5-d485-8378daff84d9"
      },
      "source": [
        "from sklearn.metrics import average_precision_score ### You only care about true and false positives. often used for uneven datasets.\n",
        "\n",
        "score = average_precision_score(y_test,y_test_pred)\n",
        "\n",
        "### you are evaluated on AUPRC score. The score to beat is .713\n",
        "\n",
        "print('AUPRC is:')\n",
        "round(score,4)"
      ],
      "execution_count": 57,
      "outputs": [
        {
          "output_type": "stream",
          "text": [
            "AUPRC is:\n"
          ],
          "name": "stdout"
        },
        {
          "output_type": "execute_result",
          "data": {
            "text/plain": [
              "0.4618"
            ]
          },
          "metadata": {
            "tags": []
          },
          "execution_count": 57
        }
      ]
    }
  ]
}