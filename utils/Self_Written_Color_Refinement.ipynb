{
  "nbformat": 4,
  "nbformat_minor": 0,
  "metadata": {
    "colab": {
      "name": "Self Written Color Refinement.ipynb",
      "provenance": [],
      "collapsed_sections": []
    },
    "kernelspec": {
      "name": "python3",
      "display_name": "Python 3"
    },
    "language_info": {
      "name": "python"
    }
  },
  "cells": [
    {
      "cell_type": "code",
      "metadata": {
        "colab": {
          "base_uri": "https://localhost:8080/"
        },
        "id": "uAa3aTWTaVbv",
        "outputId": "46a458c3-a97b-420d-e919-df104932e8f4"
      },
      "source": [
        "!pip install pysmiles\n",
        "!pip install pyTDC"
      ],
      "execution_count": 1,
      "outputs": [
        {
          "output_type": "stream",
          "name": "stdout",
          "text": [
            "Collecting pysmiles\n",
            "  Downloading pysmiles-1.0.1.tar.gz (34 kB)\n",
            "Collecting pbr\n",
            "  Using cached pbr-5.6.0-py2.py3-none-any.whl (111 kB)\n",
            "Requirement already satisfied: networkx~=2.0 in /usr/local/lib/python3.7/dist-packages (from pysmiles) (2.6.2)\n",
            "Building wheels for collected packages: pysmiles\n",
            "  Building wheel for pysmiles (setup.py) ... \u001b[?25l\u001b[?25hdone\n",
            "  Created wheel for pysmiles: filename=pysmiles-1.0.1-py2.py3-none-any.whl size=22028 sha256=62a4c5c9c850088e52b4e3a47cd5ca25b6c853d182620c5bd7c27beab74bedad\n",
            "  Stored in directory: /root/.cache/pip/wheels/e4/f0/ca/dae2e932684a6e26824d29cf5b6dadea7320e6fed036942972\n",
            "Successfully built pysmiles\n",
            "Installing collected packages: pbr, pysmiles\n",
            "Successfully installed pbr-5.6.0 pysmiles-1.0.1\n",
            "Collecting pyTDC\n",
            "  Downloading PyTDC-0.3.0.tar.gz (52 kB)\n",
            "\u001b[K     |████████████████████████████████| 52 kB 964 kB/s \n",
            "\u001b[?25hCollecting fuzzywuzzy\n",
            "  Downloading fuzzywuzzy-0.18.0-py2.py3-none-any.whl (18 kB)\n",
            "Requirement already satisfied: numpy in /usr/local/lib/python3.7/dist-packages (from pyTDC) (1.19.5)\n",
            "Requirement already satisfied: pandas in /usr/local/lib/python3.7/dist-packages (from pyTDC) (1.1.5)\n",
            "Requirement already satisfied: tqdm in /usr/local/lib/python3.7/dist-packages (from pyTDC) (4.62.0)\n",
            "Requirement already satisfied: scikit-learn in /usr/local/lib/python3.7/dist-packages (from pyTDC) (0.22.2.post1)\n",
            "Requirement already satisfied: seaborn in /usr/local/lib/python3.7/dist-packages (from pyTDC) (0.11.1)\n",
            "Requirement already satisfied: python-dateutil>=2.7.3 in /usr/local/lib/python3.7/dist-packages (from pandas->pyTDC) (2.8.2)\n",
            "Requirement already satisfied: pytz>=2017.2 in /usr/local/lib/python3.7/dist-packages (from pandas->pyTDC) (2018.9)\n",
            "Requirement already satisfied: six>=1.5 in /usr/local/lib/python3.7/dist-packages (from python-dateutil>=2.7.3->pandas->pyTDC) (1.15.0)\n",
            "Requirement already satisfied: joblib>=0.11 in /usr/local/lib/python3.7/dist-packages (from scikit-learn->pyTDC) (1.0.1)\n",
            "Requirement already satisfied: scipy>=0.17.0 in /usr/local/lib/python3.7/dist-packages (from scikit-learn->pyTDC) (1.4.1)\n",
            "Requirement already satisfied: matplotlib>=2.2 in /usr/local/lib/python3.7/dist-packages (from seaborn->pyTDC) (3.2.2)\n",
            "Requirement already satisfied: pyparsing!=2.0.4,!=2.1.2,!=2.1.6,>=2.0.1 in /usr/local/lib/python3.7/dist-packages (from matplotlib>=2.2->seaborn->pyTDC) (2.4.7)\n",
            "Requirement already satisfied: kiwisolver>=1.0.1 in /usr/local/lib/python3.7/dist-packages (from matplotlib>=2.2->seaborn->pyTDC) (1.3.1)\n",
            "Requirement already satisfied: cycler>=0.10 in /usr/local/lib/python3.7/dist-packages (from matplotlib>=2.2->seaborn->pyTDC) (0.10.0)\n",
            "Building wheels for collected packages: pyTDC\n",
            "  Building wheel for pyTDC (setup.py) ... \u001b[?25l\u001b[?25hdone\n",
            "  Created wheel for pyTDC: filename=PyTDC-0.3.0-py3-none-any.whl size=81385 sha256=ab3667ee696e6f91d46c81beb02d1311cce8c7271b8edf4661522ca197aa484f\n",
            "  Stored in directory: /root/.cache/pip/wheels/27/21/34/70d74583f2bf248f91fe1abfe46af06a17371067505d2fc5c0\n",
            "Successfully built pyTDC\n",
            "Installing collected packages: fuzzywuzzy, pyTDC\n",
            "Successfully installed fuzzywuzzy-0.18.0 pyTDC-0.3.0\n"
          ]
        }
      ]
    },
    {
      "cell_type": "code",
      "metadata": {
        "id": "sy1l3KM4aLTj"
      },
      "source": [
        "import networkx as nx\n",
        "import numpy as np\n",
        "import pandas as pd\n",
        "from pysmiles import read_smiles\n",
        "\n",
        "from tdc.single_pred import ADME\n",
        "import copy"
      ],
      "execution_count": 2,
      "outputs": []
    },
    {
      "cell_type": "markdown",
      "metadata": {
        "id": "W1ecBIEDaZ9t"
      },
      "source": [
        "# Psudo Code\n",
        "\n",
        "Color refinement with different starting colors\n",
        "\n",
        "There are a couple of things to keep in mind. First, You want to keep the number of unique colors limited. \n",
        "\n",
        "If you use somethign like:\n",
        "\n",
        "Node color (i+1) =  hash (node color (i) ~append? multiply? add? (color for color in Node neighbors) % N You are garenteed to have at most N colors. Where you run into problems when mutiplue colors are hashed together. \n",
        "\n",
        "Odds of a spurious hash for a single node == 1/N\n",
        "\n",
        "Odds of a spurious hash for a single iteration == (num nodes) / N\n",
        "\n",
        "Odds of a spurious hash for k iteratiosn = K *(num_nodes) / N\n",
        "\n",
        "### I have not double checked this math. I should run it by someone who knows it better. You should run some simulations on this.\n",
        "\n",
        "\n",
        "Requirements\n",
        "\n",
        "\n",
        "1. Given a graph where each vertex is garenteed to have exactly one attribute that can be treated as a int. \n",
        "\n",
        "\n",
        "\n"
      ]
    },
    {
      "cell_type": "code",
      "metadata": {
        "colab": {
          "base_uri": "https://localhost:8080/"
        },
        "id": "-oaCE0vjbaVY",
        "outputId": "1013eb4d-dd00-4331-e8d3-6ba191c09b81"
      },
      "source": [
        "g = read_smiles('COc1ccccc1CNC(=O)Cn1nnc(-c2ccncc2)n1')\n"
      ],
      "execution_count": 12,
      "outputs": [
        {
          "output_type": "execute_result",
          "data": {
            "text/plain": [
              "<networkx.classes.graph.Graph at 0x7f8add658f90>"
            ]
          },
          "metadata": {},
          "execution_count": 12
        }
      ]
    },
    {
      "cell_type": "code",
      "metadata": {
        "colab": {
          "base_uri": "https://localhost:8080/"
        },
        "id": "O4jR8iWVeK14",
        "outputId": "7b328f96-cadc-4a02-a4e3-623a6fc9f52d"
      },
      "source": [
        "def get_next_node_color(node_color:int, neighbor_colors:list):\n",
        "  \"\"\"\n",
        "    Generate node Color i+1 based on node color i and the neighbor colors the hash function, and mod num_buckets\n",
        "  \"\"\"\n",
        "  num_buckets = 100\n",
        "  # neighborcolrs is unordered so all lists should map into the same int, then they should be appended to the orgional color then you hash that\n",
        "\n",
        "  pre_hash_color = str(node_color) + str(np.prod(neighbor_colors)) # You need a determanistic way to evenly put this into the buckets. str nab\n",
        "\n",
        "  return hash(pre_hash_color) % num_buckets\n",
        "  # i think this is good enough. You should test it empericaly. bootstrap a bunch of combinations\n",
        "\n",
        "\n",
        "\n",
        "get_next_node_color(11,[2,9,5])\n"
      ],
      "execution_count": 102,
      "outputs": [
        {
          "output_type": "execute_result",
          "data": {
            "text/plain": [
              "28"
            ]
          },
          "metadata": {},
          "execution_count": 102
        }
      ]
    },
    {
      "cell_type": "code",
      "metadata": {
        "colab": {
          "base_uri": "https://localhost:8080/"
        },
        "id": "7o7MDfYfhorN",
        "outputId": "c0f5d898-d011-4937-92fb-137ea7d52902"
      },
      "source": [
        "# initla colors \n",
        "\n",
        "a = dict(g.nodes.data(True))\n",
        "\n",
        "\n",
        "type(a)"
      ],
      "execution_count": 68,
      "outputs": [
        {
          "output_type": "execute_result",
          "data": {
            "text/plain": [
              "dict"
            ]
          },
          "metadata": {},
          "execution_count": 68
        }
      ]
    },
    {
      "cell_type": "code",
      "metadata": {
        "colab": {
          "base_uri": "https://localhost:8080/"
        },
        "id": "Tx4GhxOegsqh",
        "outputId": "c63c2e73-efa2-4295-fc3f-4d0f7a689d7a"
      },
      "source": [
        "node_names = list(a.keys())\n",
        "node_names\n",
        "\n",
        "node_attributes = tuple(sorted(list(a[node_names[0]].items())))\n",
        "node_attributes\n",
        "\n",
        "node_starting_colors = {}\n",
        "num_buckets =100\n",
        "\n",
        "for index, node_num in enumerate(node_names):\n",
        "  node_attributes = tuple(sorted(list(a[node_names[index]].items())))\n",
        "  inital_node_color = hash(node_attributes) % num_buckets\n",
        "  node_starting_colors[node_num] = inital_node_color\n",
        "\n",
        "\n",
        "node_starting_colors"
      ],
      "execution_count": 93,
      "outputs": [
        {
          "output_type": "execute_result",
          "data": {
            "text/plain": [
              "{0: 43,\n",
              " 1: 39,\n",
              " 2: 15,\n",
              " 3: 40,\n",
              " 4: 40,\n",
              " 5: 40,\n",
              " 6: 40,\n",
              " 7: 15,\n",
              " 8: 68,\n",
              " 9: 45,\n",
              " 10: 18,\n",
              " 11: 39,\n",
              " 12: 68,\n",
              " 13: 45,\n",
              " 14: 70,\n",
              " 15: 70,\n",
              " 16: 18,\n",
              " 17: 15,\n",
              " 18: 40,\n",
              " 19: 40,\n",
              " 20: 31,\n",
              " 21: 40,\n",
              " 22: 40,\n",
              " 23: 70}"
            ]
          },
          "metadata": {},
          "execution_count": 93
        }
      ]
    },
    {
      "cell_type": "code",
      "metadata": {
        "colab": {
          "base_uri": "https://localhost:8080/"
        },
        "id": "DqfdOReOsCCD",
        "outputId": "521cc949-11cd-49ef-d8f1-a5b3283c9b91"
      },
      "source": [
        "a"
      ],
      "execution_count": 95,
      "outputs": [
        {
          "output_type": "execute_result",
          "data": {
            "text/plain": [
              "{0: {'aromatic': False, 'charge': 0, 'element': 'C', 'hcount': 3},\n",
              " 1: {'aromatic': False, 'charge': 0, 'element': 'O', 'hcount': 0},\n",
              " 2: {'aromatic': True, 'charge': 0, 'element': 'C', 'hcount': 0},\n",
              " 3: {'aromatic': True, 'charge': 0, 'element': 'C', 'hcount': 1},\n",
              " 4: {'aromatic': True, 'charge': 0, 'element': 'C', 'hcount': 1},\n",
              " 5: {'aromatic': True, 'charge': 0, 'element': 'C', 'hcount': 1},\n",
              " 6: {'aromatic': True, 'charge': 0, 'element': 'C', 'hcount': 1},\n",
              " 7: {'aromatic': True, 'charge': 0, 'element': 'C', 'hcount': 0},\n",
              " 8: {'aromatic': False, 'charge': 0, 'element': 'C', 'hcount': 2},\n",
              " 9: {'aromatic': False, 'charge': 0, 'element': 'N', 'hcount': 1},\n",
              " 10: {'aromatic': False, 'charge': 0, 'element': 'C', 'hcount': 0},\n",
              " 11: {'aromatic': False, 'charge': 0, 'element': 'O', 'hcount': 0},\n",
              " 12: {'aromatic': False, 'charge': 0, 'element': 'C', 'hcount': 2},\n",
              " 13: {'aromatic': False, 'charge': 0, 'element': 'N', 'hcount': 1},\n",
              " 14: {'aromatic': False, 'charge': 0, 'element': 'N', 'hcount': 0},\n",
              " 15: {'aromatic': False, 'charge': 0, 'element': 'N', 'hcount': 0},\n",
              " 16: {'aromatic': False, 'charge': 0, 'element': 'C', 'hcount': 0},\n",
              " 17: {'aromatic': True, 'charge': 0, 'element': 'C', 'hcount': 0},\n",
              " 18: {'aromatic': True, 'charge': 0, 'element': 'C', 'hcount': 1},\n",
              " 19: {'aromatic': True, 'charge': 0, 'element': 'C', 'hcount': 1},\n",
              " 20: {'aromatic': True, 'charge': 0, 'element': 'N', 'hcount': 0},\n",
              " 21: {'aromatic': True, 'charge': 0, 'element': 'C', 'hcount': 1},\n",
              " 22: {'aromatic': True, 'charge': 0, 'element': 'C', 'hcount': 1},\n",
              " 23: {'aromatic': False, 'charge': 0, 'element': 'N', 'hcount': 0}}"
            ]
          },
          "metadata": {},
          "execution_count": 95
        }
      ]
    },
    {
      "cell_type": "code",
      "metadata": {
        "colab": {
          "base_uri": "https://localhost:8080/"
        },
        "id": "Ibt6gPPlp5sr",
        "outputId": "361289b4-d95d-4211-d0c0-c1a8f8b5edaf"
      },
      "source": [
        "def convert_node_view_to_node_color_dict(node_data: nx.classes.reportviews.NodeDataView, num_buckets: int)-> dict:\n",
        "  \"\"\"\n",
        "      Set the inital color of each of the nodes based on hashing the node attributes and a number of buckets. \n",
        "        ### add a limit based on the node feature, pass this a list of keys to encode as attributes\n",
        "      # wrap this is a factory method. \n",
        "      Returns a dictionary of inital colors to make the nodes\n",
        "  \"\"\"\n",
        "  node_data_as_dict = dict(node_data)\n",
        "  node_names = list(node_data_as_dict.keys())\n",
        "  node_starting_colors = dict()\n",
        "\n",
        "  for index, node_num in enumerate(node_names):\n",
        "    node_attributes = tuple(sorted(list(a[node_names[index]].items())))\n",
        "    inital_node_color = hash(node_attributes) % num_buckets\n",
        "    node_starting_colors[node_num] = inital_node_color\n",
        "\n",
        "  return node_starting_colors\n",
        "\n",
        "\n",
        "starting_colors = convert_node_view_to_node_color_dict(g.nodes.data(data=True), 100)\n",
        "starting_colors"
      ],
      "execution_count": 123,
      "outputs": [
        {
          "output_type": "execute_result",
          "data": {
            "text/plain": [
              "{0: 43,\n",
              " 1: 39,\n",
              " 2: 15,\n",
              " 3: 40,\n",
              " 4: 40,\n",
              " 5: 40,\n",
              " 6: 40,\n",
              " 7: 15,\n",
              " 8: 68,\n",
              " 9: 45,\n",
              " 10: 18,\n",
              " 11: 39,\n",
              " 12: 68,\n",
              " 13: 45,\n",
              " 14: 70,\n",
              " 15: 70,\n",
              " 16: 18,\n",
              " 17: 15,\n",
              " 18: 40,\n",
              " 19: 40,\n",
              " 20: 31,\n",
              " 21: 40,\n",
              " 22: 40,\n",
              " 23: 70}"
            ]
          },
          "metadata": {},
          "execution_count": 123
        }
      ]
    },
    {
      "cell_type": "code",
      "metadata": {
        "colab": {
          "base_uri": "https://localhost:8080/"
        },
        "id": "yYXB_XuEuKRL",
        "outputId": "08d89bd1-f5c4-48f8-d11d-208cf92fd436"
      },
      "source": [
        "copy_g = copy.deepcopy(g)\n",
        "\n",
        "nx.set_node_attributes(copy_g, starting_colors, name=\"color\")\n",
        "copy_g.nodes.data(True)"
      ],
      "execution_count": 130,
      "outputs": [
        {
          "output_type": "execute_result",
          "data": {
            "text/plain": [
              "NodeDataView({0: {'element': 'C', 'charge': 0, 'aromatic': False, 'hcount': 3, 'color': 43}, 1: {'element': 'O', 'charge': 0, 'aromatic': False, 'hcount': 0, 'color': 39}, 2: {'element': 'C', 'charge': 0, 'aromatic': True, 'hcount': 0, 'color': 15}, 3: {'element': 'C', 'charge': 0, 'aromatic': True, 'hcount': 1, 'color': 40}, 4: {'element': 'C', 'charge': 0, 'aromatic': True, 'hcount': 1, 'color': 40}, 5: {'element': 'C', 'charge': 0, 'aromatic': True, 'hcount': 1, 'color': 40}, 6: {'element': 'C', 'charge': 0, 'aromatic': True, 'hcount': 1, 'color': 40}, 7: {'element': 'C', 'charge': 0, 'aromatic': True, 'hcount': 0, 'color': 15}, 8: {'element': 'C', 'charge': 0, 'aromatic': False, 'hcount': 2, 'color': 68}, 9: {'element': 'N', 'charge': 0, 'aromatic': False, 'hcount': 1, 'color': 45}, 10: {'element': 'C', 'charge': 0, 'aromatic': False, 'hcount': 0, 'color': 18}, 11: {'element': 'O', 'charge': 0, 'aromatic': False, 'hcount': 0, 'color': 39}, 12: {'element': 'C', 'charge': 0, 'aromatic': False, 'hcount': 2, 'color': 68}, 13: {'element': 'N', 'charge': 0, 'aromatic': False, 'hcount': 1, 'color': 45}, 14: {'element': 'N', 'charge': 0, 'aromatic': False, 'hcount': 0, 'color': 70}, 15: {'element': 'N', 'charge': 0, 'aromatic': False, 'hcount': 0, 'color': 70}, 16: {'element': 'C', 'charge': 0, 'aromatic': False, 'hcount': 0, 'color': 18}, 17: {'element': 'C', 'charge': 0, 'aromatic': True, 'hcount': 0, 'color': 15}, 18: {'element': 'C', 'charge': 0, 'aromatic': True, 'hcount': 1, 'color': 40}, 19: {'element': 'C', 'charge': 0, 'aromatic': True, 'hcount': 1, 'color': 40}, 20: {'element': 'N', 'charge': 0, 'aromatic': True, 'hcount': 0, 'color': 31}, 21: {'element': 'C', 'charge': 0, 'aromatic': True, 'hcount': 1, 'color': 40}, 22: {'element': 'C', 'charge': 0, 'aromatic': True, 'hcount': 1, 'color': 40}, 23: {'element': 'N', 'charge': 0, 'aromatic': False, 'hcount': 0, 'color': 70}})"
            ]
          },
          "metadata": {},
          "execution_count": 130
        }
      ]
    },
    {
      "cell_type": "code",
      "metadata": {
        "colab": {
          "base_uri": "https://localhost:8080/"
        },
        "id": "XgXQWMYaw4pd",
        "outputId": "17faf067-51ef-4599-bed1-84e7f22e31ad"
      },
      "source": [
        "def convert_node_view_to_node_color_dict(node_data: nx.classes.reportviews.NodeDataView, num_buckets: int)-> dict:\n",
        "  \"\"\"\n",
        "      Set the inital color of each of the nodes based on hashing the node attributes and a number of buckets. \n",
        "        ### add a limit based on the node feature, pass this a list of keys to encode as attributes\n",
        "      # wrap this is a factory method. \n",
        "      Returns a dictionary of inital colors to make the nodes\n",
        "  \"\"\"\n",
        "\n",
        "  node_data_as_dict = dict(node_data)\n",
        "  node_names = list(node_data_as_dict.keys())\n",
        "  node_starting_colors = dict()\n",
        "\n",
        "  for index, node_num in enumerate(node_names):\n",
        "    node_attributes = tuple(sorted(list(a[node_names[index]].items())))\n",
        "    inital_node_color = hash(node_attributes) % num_buckets\n",
        "    node_starting_colors[node_num] = inital_node_color\n",
        "\n",
        "  return node_starting_colors\n",
        "\n",
        "def create_color_graph(graph: nx.classes.graph.Graph):\n",
        "\n",
        "  starting_colors = convert_node_view_to_node_color_dict(graph.nodes.data(True), 100)\n",
        "  color_graph = copy.deepcopy(graph)\n",
        "  nx.set_node_attributes(color_graph, starting_colors, name=\"color_0\")\n",
        "\n",
        "  # remove the other only keep 'color' attribute\n",
        "  for index, node in enumerate(color_graph.nodes.data(True)):\n",
        "    node_attributes = list(color_graph.nodes[index].keys())\n",
        "    attributes_to_remove = [a for a in node_attributes if a !='color_0']\n",
        "    [color_graph.nodes[index].pop(a) for a in attributes_to_remove]\n",
        "\n",
        "  return color_graph\n",
        "\n",
        "c = create_color_graph(g)\n",
        "c.nodes.data(True)"
      ],
      "execution_count": 255,
      "outputs": [
        {
          "output_type": "execute_result",
          "data": {
            "text/plain": [
              "NodeDataView({0: {'color_0': 43}, 1: {'color_0': 39}, 2: {'color_0': 15}, 3: {'color_0': 40}, 4: {'color_0': 40}, 5: {'color_0': 40}, 6: {'color_0': 40}, 7: {'color_0': 15}, 8: {'color_0': 68}, 9: {'color_0': 45}, 10: {'color_0': 18}, 11: {'color_0': 39}, 12: {'color_0': 68}, 13: {'color_0': 45}, 14: {'color_0': 70}, 15: {'color_0': 70}, 16: {'color_0': 18}, 17: {'color_0': 15}, 18: {'color_0': 40}, 19: {'color_0': 40}, 20: {'color_0': 31}, 21: {'color_0': 40}, 22: {'color_0': 40}, 23: {'color_0': 70}})"
            ]
          },
          "metadata": {},
          "execution_count": 255
        }
      ]
    },
    {
      "cell_type": "code",
      "metadata": {
        "colab": {
          "base_uri": "https://localhost:8080/"
        },
        "id": "sRB0HE7E0JyI",
        "outputId": "d381cc25-d6b0-49c2-de82-ec82c91f7d0b"
      },
      "source": [
        ""
      ],
      "execution_count": 256,
      "outputs": [
        {
          "output_type": "execute_result",
          "data": {
            "text/plain": [
              "70"
            ]
          },
          "metadata": {},
          "execution_count": 256
        }
      ]
    },
    {
      "cell_type": "code",
      "metadata": {
        "colab": {
          "base_uri": "https://localhost:8080/"
        },
        "id": "Pl1CFYgG4MoX",
        "outputId": "d1e87f0a-9a94-4890-881c-090ceeb7711a"
      },
      "source": [
        "def convert_node_view_to_node_color_dict(node_data: nx.classes.reportviews.NodeDataView, num_buckets: int)-> dict:\n",
        "  \"\"\"\n",
        "      Set the inital color of each of the nodes based on hashing the node attributes and a number of buckets. \n",
        "        ### add a limit based on the node feature, pass this a list of keys to encode as attributes\n",
        "      # wrap this is a factory method. \n",
        "      Returns a dictionary of inital colors to make the nodes\n",
        "  \"\"\"\n",
        "\n",
        "  node_data_as_dict = dict(node_data)\n",
        "  node_names = list(node_data_as_dict.keys())\n",
        "  node_starting_colors = dict()\n",
        "\n",
        "  for index, node_num in enumerate(node_names):\n",
        "    node_attributes = tuple(sorted(list(a[node_names[index]].items())))\n",
        "    inital_node_color = hash(node_attributes) % num_buckets\n",
        "    node_starting_colors[node_num] = inital_node_color\n",
        "\n",
        "  return node_starting_colors\n",
        "\n",
        "def create_inital_color_graph(graph: nx.classes.graph.Graph):\n",
        "\n",
        "  starting_colors = convert_node_view_to_node_color_dict(graph.nodes.data(True), 100)\n",
        "  color_graph = copy.deepcopy(graph)\n",
        "  nx.set_node_attributes(color_graph, starting_colors, name=\"color_0\")\n",
        "\n",
        "  # remove the other only keep 'color' attribute\n",
        "  for index, node in enumerate(color_graph.nodes.data(True)):\n",
        "    node_attributes = list(color_graph.nodes[index].keys())\n",
        "    attributes_to_remove = [a for a in node_attributes if a !='color_0']\n",
        "    [color_graph.nodes[index].pop(a) for a in attributes_to_remove]\n",
        "\n",
        "  return color_graph\n",
        "\n",
        "\n",
        "\n",
        "def compute_next_iteration_color(node_color:int, neighbor_colors:list):\n",
        "  \"\"\"\n",
        "    Generate node Color i+1 based on node color i and the neighbor colors the hash function, and mod num_buckets\n",
        "      # neighborcolrs is unordered so all lists should map into the same int, then they should be appended to the orgional color then you hash that\n",
        "  \"\"\"\n",
        "  num_buckets = 100 \n",
        "  neighbor_colors = sorted(neighbor_colors)\n",
        "  pre_hash_color = str(node_color) + str(neighbor_colors)\n",
        "  new_color = hash(pre_hash_color) % num_buckets \n",
        "  return new_color\n",
        "\n",
        "\n",
        "def next_iteration_of_color_graph(color_graph, iter_num:int):\n",
        "  prev_color_key = f'color_{iter_num-1}'\n",
        "  \n",
        "  # do an iteration\n",
        "  updated_colors = dict()\n",
        "  for index, current_node in enumerate(color_graph.nodes.data(True)):\n",
        "    neighbor_nodes = [n for n in color_graph.neighbors(index)]\n",
        "    current_color = color_graph.nodes[current_node[0]]\n",
        "    neighbor_colors = ([color_graph.nodes[n][prev_color_key] for n in neighbor_nodes])\n",
        "    updated_colors[index] = compute_next_iteration_color(current_color,neighbor_colors)\n",
        "\n",
        "  nx.set_node_attributes(color_graph, updated_colors, name=f'color_{iter_num}')\n",
        "\n",
        "\n",
        "\n",
        "\n",
        "c = create_inital_color_graph(g)\n",
        "\n",
        "for iter_num in range(1,10):\n",
        "  next_iteration_of_color_graph(c,iter_num)\n",
        "\n",
        "c.nodes.data(True)"
      ],
      "execution_count": 272,
      "outputs": [
        {
          "output_type": "execute_result",
          "data": {
            "text/plain": [
              "NodeDataView({0: {'color_0': 43, 'color_1': 85, 'color_2': 68, 'color_3': 69, 'color_4': 94, 'color_5': 5, 'color_6': 80, 'color_7': 21, 'color_8': 16, 'color_9': 77}, 1: {'color_0': 39, 'color_1': 61, 'color_2': 74, 'color_3': 7, 'color_4': 21, 'color_5': 55, 'color_6': 24, 'color_7': 11, 'color_8': 54, 'color_9': 12}, 2: {'color_0': 15, 'color_1': 40, 'color_2': 64, 'color_3': 60, 'color_4': 45, 'color_5': 1, 'color_6': 29, 'color_7': 95, 'color_8': 67, 'color_9': 54}, 3: {'color_0': 40, 'color_1': 47, 'color_2': 23, 'color_3': 0, 'color_4': 82, 'color_5': 41, 'color_6': 9, 'color_7': 13, 'color_8': 31, 'color_9': 9}, 4: {'color_0': 40, 'color_1': 53, 'color_2': 90, 'color_3': 96, 'color_4': 40, 'color_5': 7, 'color_6': 48, 'color_7': 63, 'color_8': 84, 'color_9': 53}, 5: {'color_0': 40, 'color_1': 53, 'color_2': 90, 'color_3': 63, 'color_4': 27, 'color_5': 63, 'color_6': 68, 'color_7': 97, 'color_8': 26, 'color_9': 55}, 6: {'color_0': 40, 'color_1': 47, 'color_2': 13, 'color_3': 44, 'color_4': 58, 'color_5': 24, 'color_6': 98, 'color_7': 25, 'color_8': 87, 'color_9': 90}, 7: {'color_0': 15, 'color_1': 22, 'color_2': 7, 'color_3': 62, 'color_4': 95, 'color_5': 85, 'color_6': 28, 'color_7': 47, 'color_8': 69, 'color_9': 61}, 8: {'color_0': 68, 'color_1': 92, 'color_2': 56, 'color_3': 31, 'color_4': 11, 'color_5': 87, 'color_6': 89, 'color_7': 62, 'color_8': 4, 'color_9': 15}, 9: {'color_0': 45, 'color_1': 7, 'color_2': 90, 'color_3': 81, 'color_4': 46, 'color_5': 44, 'color_6': 99, 'color_7': 98, 'color_8': 68, 'color_9': 36}, 10: {'color_0': 18, 'color_1': 57, 'color_2': 79, 'color_3': 43, 'color_4': 31, 'color_5': 21, 'color_6': 20, 'color_7': 6, 'color_8': 63, 'color_9': 33}, 11: {'color_0': 39, 'color_1': 66, 'color_2': 31, 'color_3': 54, 'color_4': 12, 'color_5': 21, 'color_6': 70, 'color_7': 71, 'color_8': 49, 'color_9': 41}, 12: {'color_0': 68, 'color_1': 28, 'color_2': 89, 'color_3': 49, 'color_4': 60, 'color_5': 82, 'color_6': 6, 'color_7': 22, 'color_8': 24, 'color_9': 51}, 13: {'color_0': 45, 'color_1': 66, 'color_2': 97, 'color_3': 20, 'color_4': 11, 'color_5': 87, 'color_6': 81, 'color_7': 90, 'color_8': 36, 'color_9': 76}, 14: {'color_0': 70, 'color_1': 82, 'color_2': 52, 'color_3': 14, 'color_4': 36, 'color_5': 68, 'color_6': 87, 'color_7': 56, 'color_8': 28, 'color_9': 51}, 15: {'color_0': 70, 'color_1': 13, 'color_2': 8, 'color_3': 63, 'color_4': 13, 'color_5': 96, 'color_6': 36, 'color_7': 60, 'color_8': 54, 'color_9': 5}, 16: {'color_0': 18, 'color_1': 49, 'color_2': 69, 'color_3': 27, 'color_4': 62, 'color_5': 71, 'color_6': 36, 'color_7': 56, 'color_8': 93, 'color_9': 45}, 17: {'color_0': 15, 'color_1': 84, 'color_2': 76, 'color_3': 6, 'color_4': 5, 'color_5': 35, 'color_6': 93, 'color_7': 41, 'color_8': 86, 'color_9': 13}, 18: {'color_0': 40, 'color_1': 47, 'color_2': 43, 'color_3': 49, 'color_4': 62, 'color_5': 71, 'color_6': 10, 'color_7': 84, 'color_8': 29, 'color_9': 17}, 19: {'color_0': 40, 'color_1': 19, 'color_2': 0, 'color_3': 96, 'color_4': 70, 'color_5': 38, 'color_6': 62, 'color_7': 33, 'color_8': 20, 'color_9': 30}, 20: {'color_0': 31, 'color_1': 21, 'color_2': 48, 'color_3': 91, 'color_4': 83, 'color_5': 3, 'color_6': 3, 'color_7': 42, 'color_8': 42, 'color_9': 93}, 21: {'color_0': 40, 'color_1': 19, 'color_2': 0, 'color_3': 96, 'color_4': 70, 'color_5': 38, 'color_6': 62, 'color_7': 33, 'color_8': 20, 'color_9': 30}, 22: {'color_0': 40, 'color_1': 47, 'color_2': 43, 'color_3': 49, 'color_4': 62, 'color_5': 71, 'color_6': 10, 'color_7': 84, 'color_8': 29, 'color_9': 17}, 23: {'color_0': 70, 'color_1': 46, 'color_2': 13, 'color_3': 59, 'color_4': 47, 'color_5': 8, 'color_6': 12, 'color_7': 87, 'color_8': 23, 'color_9': 79}})"
            ]
          },
          "metadata": {},
          "execution_count": 272
        }
      ]
    },
    {
      "cell_type": "markdown",
      "metadata": {
        "id": "TW6XSjR25MKJ"
      },
      "source": [
        "### Next steps:\n",
        "\n",
        "\n",
        "1. Empericla test your functions at differetn number of buckets to make sure that they are evenly distributed.\n",
        "2. Wrap the hashing functions in factory classes\n",
        "3. Make the color iterators do `color_0` for the inital coloring and then `color_1` ... `color_k` for the iterations after than that. (the graph features when will each be a num_buckets long feature K features for K iterations.\n",
        "\n",
        "\n",
        "# You need a emperical measure of colisions.\n"
      ]
    },
    {
      "cell_type": "code",
      "metadata": {
        "colab": {
          "base_uri": "https://localhost:8080/"
        },
        "id": "F2i6nW_TTYZS",
        "outputId": "dda99dd3-b90d-4218-9cd4-1b37aeb02b7a"
      },
      "source": [
        "import numpy as np\n",
        "import pandas as pd\n",
        "import networkx as nx\n",
        "\n",
        "\n",
        "class ColorRefinement:\n",
        "\n",
        "\n",
        "  @staticmethod\n",
        "  def create_color_hash_function(num_buckets: int):\n",
        "\n",
        "    def get_next_node_color(node_color:int, neighbor_colors:list):\n",
        "      pre_hash_color = str(node_color) + str(np.prod(neighbor_colors))\n",
        "      new_color = hash(pre_hash_color) % num_buckets\n",
        "      return new_color\n",
        "\n",
        "\n",
        "    hash_function = get_next_node_color\n",
        "    return hash_function\n",
        "\n",
        "  @staticmethod\n",
        "  def convert_node_view_to_node_color_dict(node_data: nx.classes.reportviews.NodeDataView, num_buckets: int)-> dict:\n",
        "    \"\"\"\n",
        "        Set the inital color of each of the nodes based on hashing the node attributes and a number of buckets. \n",
        "\n",
        "        Returns a dictionary of inital colors to make the nodes\n",
        "    \"\"\"\n",
        "\n",
        "    node_data_as_dict = dict(node_data)\n",
        "    node_names = list(node_data_as_dict.keys())\n",
        "    node_starting_colors = dict()\n",
        "\n",
        "    for index, node_num in enumerate(node_names):\n",
        "      node_attributes = tuple(sorted(list(a[node_names[index]].items())))\n",
        "      inital_node_color = hash(node_attributes) % num_buckets\n",
        "      node_starting_colors[node_num] = inital_node_color\n",
        "\n",
        "    return node_starting_colors\n",
        "  \n",
        "  @staticmethod\n",
        "  def create_inital_color_graph(graph: nx.classes.graph.Graph, num_buckets:int):\n",
        "\n",
        "    starting_colors = convert_node_view_to_node_color_dict(graph.nodes.data(True), num_buckets)\n",
        "    color_graph = copy.deepcopy(graph)\n",
        "    nx.set_node_attributes(color_graph, starting_colors, name=\"color_0\")\n",
        "\n",
        "    # remove unneeded tags\n",
        "    for index, node in enumerate(color_graph.nodes.data(True)):\n",
        "      node_attributes = list(color_graph.nodes[index].keys())\n",
        "      attributes_to_remove = [a for a in node_attributes if a !='color_0']\n",
        "      [color_graph.nodes[index].pop(a) for a in attributes_to_remove]\n",
        "\n",
        "    return color_graph\n",
        "\n",
        "  @staticmethod\n",
        "  def next_iteration_of_color_graph(color_graph, iter_num:int, color_hashing_function):\n",
        "    prev_color_key = f'color_{iter_num-1}'\n",
        "    \n",
        "    # do an iteration\n",
        "    updated_colors = dict()\n",
        "    for index, current_node in enumerate(color_graph.nodes.data(True)):\n",
        "      neighbor_nodes = [n for n in color_graph.neighbors(index)]\n",
        "      current_color = color_graph.nodes[current_node[0]]\n",
        "      neighbor_colors = ([color_graph.nodes[n][prev_color_key] for n in neighbor_nodes])\n",
        "      updated_colors[index] = color_hashing_function(current_color,neighbor_colors)\n",
        "\n",
        "    nx.set_node_attributes(color_graph, updated_colors, name=f'color_{iter_num}')\n",
        "\n",
        "  @staticmethod\n",
        "  def compute_K_color_refinements(G: nx.classes.graph.Graph, K:int, num_buckets:int):\n",
        "    \"\"\"\n",
        "    Given a graph G and a hash_function f, compute K iterations of the color refinement algorithm (link to algo)\n",
        "    \"\"\"\n",
        "    color_hashing_function = cr.create_color_hash_function(num_buckets)\n",
        "    color_graph = cr.create_inital_color_graph(G, num_buckets)\n",
        "\n",
        "    for iter_num in range(1,K):\n",
        "      cr.next_iteration_of_color_graph(color_graph, iter_num=iter_num, color_hashing_function=color_hashing_function)\n",
        "\n",
        "    return color_graph\n",
        "\n",
        "  @staticmethod\n",
        "  def extact_node_labels():\n",
        "    pass\n",
        "\n",
        "\n",
        "cr = ColorRefinement()\n",
        "\n",
        "fully_colored_graph = cr.compute_K_color_refinements(G=g,K=10,num_buckets=1000)\n",
        "a = fully_colored_graph.nodes.data(True)\n",
        "a"
      ],
      "execution_count": 358,
      "outputs": [
        {
          "output_type": "execute_result",
          "data": {
            "text/plain": [
              "NodeDataView({0: {'color_0': 229, 'color_1': 560, 'color_2': 251, 'color_3': 310, 'color_4': 725, 'color_5': 102, 'color_6': 44, 'color_7': 416, 'color_8': 571, 'color_9': 136}, 1: {'color_0': 264, 'color_1': 473, 'color_2': 948, 'color_3': 357, 'color_4': 115, 'color_5': 620, 'color_6': 765, 'color_7': 726, 'color_8': 318, 'color_9': 22}, 2: {'color_0': 515, 'color_1': 430, 'color_2': 121, 'color_3': 420, 'color_4': 696, 'color_5': 344, 'color_6': 219, 'color_7': 186, 'color_8': 797, 'color_9': 194}, 3: {'color_0': 825, 'color_1': 265, 'color_2': 905, 'color_3': 518, 'color_4': 779, 'color_5': 177, 'color_6': 140, 'color_7': 984, 'color_8': 364, 'color_9': 681}, 4: {'color_0': 403, 'color_1': 571, 'color_2': 376, 'color_3': 338, 'color_4': 98, 'color_5': 103, 'color_6': 211, 'color_7': 760, 'color_8': 826, 'color_9': 295}, 5: {'color_0': 889, 'color_1': 263, 'color_2': 238, 'color_3': 734, 'color_4': 643, 'color_5': 794, 'color_6': 628, 'color_7': 274, 'color_8': 948, 'color_9': 425}, 6: {'color_0': 980, 'color_1': 767, 'color_2': 961, 'color_3': 115, 'color_4': 440, 'color_5': 130, 'color_6': 959, 'color_7': 68, 'color_8': 694, 'color_9': 147}, 7: {'color_0': 849, 'color_1': 924, 'color_2': 129, 'color_3': 939, 'color_4': 592, 'color_5': 605, 'color_6': 393, 'color_7': 533, 'color_8': 55, 'color_9': 644}, 8: {'color_0': 204, 'color_1': 664, 'color_2': 4, 'color_3': 617, 'color_4': 59, 'color_5': 706, 'color_6': 874, 'color_7': 950, 'color_8': 167, 'color_9': 300}, 9: {'color_0': 13, 'color_1': 117, 'color_2': 559, 'color_3': 330, 'color_4': 250, 'color_5': 862, 'color_6': 729, 'color_7': 197, 'color_8': 97, 'color_9': 335}, 10: {'color_0': 167, 'color_1': 342, 'color_2': 805, 'color_3': 536, 'color_4': 390, 'color_5': 348, 'color_6': 638, 'color_7': 890, 'color_8': 786, 'color_9': 607}, 11: {'color_0': 67, 'color_1': 847, 'color_2': 71, 'color_3': 60, 'color_4': 972, 'color_5': 19, 'color_6': 101, 'color_7': 206, 'color_8': 193, 'color_9': 721}, 12: {'color_0': 521, 'color_1': 899, 'color_2': 807, 'color_3': 972, 'color_4': 382, 'color_5': 386, 'color_6': 556, 'color_7': 390, 'color_8': 382, 'color_9': 813}, 13: {'color_0': 155, 'color_1': 139, 'color_2': 964, 'color_3': 670, 'color_4': 137, 'color_5': 598, 'color_6': 403, 'color_7': 983, 'color_8': 951, 'color_9': 125}, 14: {'color_0': 416, 'color_1': 620, 'color_2': 929, 'color_3': 243, 'color_4': 655, 'color_5': 775, 'color_6': 450, 'color_7': 348, 'color_8': 316, 'color_9': 503}, 15: {'color_0': 86, 'color_1': 809, 'color_2': 871, 'color_3': 90, 'color_4': 691, 'color_5': 875, 'color_6': 763, 'color_7': 930, 'color_8': 513, 'color_9': 381}, 16: {'color_0': 982, 'color_1': 812, 'color_2': 543, 'color_3': 478, 'color_4': 22, 'color_5': 378, 'color_6': 7, 'color_7': 351, 'color_8': 826, 'color_9': 186}, 17: {'color_0': 453, 'color_1': 901, 'color_2': 710, 'color_3': 906, 'color_4': 116, 'color_5': 268, 'color_6': 807, 'color_7': 796, 'color_8': 132, 'color_9': 547}, 18: {'color_0': 693, 'color_1': 825, 'color_2': 401, 'color_3': 981, 'color_4': 231, 'color_5': 530, 'color_6': 76, 'color_7': 842, 'color_8': 734, 'color_9': 935}, 19: {'color_0': 26, 'color_1': 966, 'color_2': 301, 'color_3': 167, 'color_4': 587, 'color_5': 847, 'color_6': 840, 'color_7': 548, 'color_8': 26, 'color_9': 775}, 20: {'color_0': 896, 'color_1': 353, 'color_2': 410, 'color_3': 401, 'color_4': 921, 'color_5': 900, 'color_6': 964, 'color_7': 244, 'color_8': 146, 'color_9': 165}, 21: {'color_0': 26, 'color_1': 966, 'color_2': 301, 'color_3': 167, 'color_4': 587, 'color_5': 847, 'color_6': 840, 'color_7': 548, 'color_8': 26, 'color_9': 775}, 22: {'color_0': 693, 'color_1': 825, 'color_2': 401, 'color_3': 981, 'color_4': 231, 'color_5': 530, 'color_6': 76, 'color_7': 842, 'color_8': 734, 'color_9': 935}, 23: {'color_0': 154, 'color_1': 902, 'color_2': 74, 'color_3': 610, 'color_4': 918, 'color_5': 806, 'color_6': 818, 'color_7': 519, 'color_8': 955, 'color_9': 916}})"
            ]
          },
          "metadata": {},
          "execution_count": 358
        }
      ]
    },
    {
      "cell_type": "code",
      "metadata": {
        "colab": {
          "base_uri": "https://localhost:8080/",
          "height": 393
        },
        "id": "hpst9oL2ZpmA",
        "outputId": "b5337220-4ae9-48f2-dd56-d1238c9b0934"
      },
      "source": [
        "node_num = 0\n",
        "\n",
        "first_node_labels = zip(list(list(a)[node_num][1].keys()), list(list(a)[node_num][1].values()))\n",
        "node_labels = list(first_node_labels)\n",
        "\n",
        "df = pd.DataFrame(node_labels, columns=['iteration_number', f'Node_{node_num}'])\n",
        "df.set_index('iteration_number', inplace=True)\n",
        "df"
      ],
      "execution_count": 359,
      "outputs": [
        {
          "output_type": "execute_result",
          "data": {
            "text/html": [
              "<div>\n",
              "<style scoped>\n",
              "    .dataframe tbody tr th:only-of-type {\n",
              "        vertical-align: middle;\n",
              "    }\n",
              "\n",
              "    .dataframe tbody tr th {\n",
              "        vertical-align: top;\n",
              "    }\n",
              "\n",
              "    .dataframe thead th {\n",
              "        text-align: right;\n",
              "    }\n",
              "</style>\n",
              "<table border=\"1\" class=\"dataframe\">\n",
              "  <thead>\n",
              "    <tr style=\"text-align: right;\">\n",
              "      <th></th>\n",
              "      <th>Node_0</th>\n",
              "    </tr>\n",
              "    <tr>\n",
              "      <th>iteration_number</th>\n",
              "      <th></th>\n",
              "    </tr>\n",
              "  </thead>\n",
              "  <tbody>\n",
              "    <tr>\n",
              "      <th>color_0</th>\n",
              "      <td>229</td>\n",
              "    </tr>\n",
              "    <tr>\n",
              "      <th>color_1</th>\n",
              "      <td>560</td>\n",
              "    </tr>\n",
              "    <tr>\n",
              "      <th>color_2</th>\n",
              "      <td>251</td>\n",
              "    </tr>\n",
              "    <tr>\n",
              "      <th>color_3</th>\n",
              "      <td>310</td>\n",
              "    </tr>\n",
              "    <tr>\n",
              "      <th>color_4</th>\n",
              "      <td>725</td>\n",
              "    </tr>\n",
              "    <tr>\n",
              "      <th>color_5</th>\n",
              "      <td>102</td>\n",
              "    </tr>\n",
              "    <tr>\n",
              "      <th>color_6</th>\n",
              "      <td>44</td>\n",
              "    </tr>\n",
              "    <tr>\n",
              "      <th>color_7</th>\n",
              "      <td>416</td>\n",
              "    </tr>\n",
              "    <tr>\n",
              "      <th>color_8</th>\n",
              "      <td>571</td>\n",
              "    </tr>\n",
              "    <tr>\n",
              "      <th>color_9</th>\n",
              "      <td>136</td>\n",
              "    </tr>\n",
              "  </tbody>\n",
              "</table>\n",
              "</div>"
            ],
            "text/plain": [
              "                  Node_0\n",
              "iteration_number        \n",
              "color_0              229\n",
              "color_1              560\n",
              "color_2              251\n",
              "color_3              310\n",
              "color_4              725\n",
              "color_5              102\n",
              "color_6               44\n",
              "color_7              416\n",
              "color_8              571\n",
              "color_9              136"
            ]
          },
          "metadata": {},
          "execution_count": 359
        }
      ]
    },
    {
      "cell_type": "code",
      "metadata": {
        "id": "Z_rRuuA7dtUc"
      },
      "source": [
        "def extact_node_colors(node)-> tuple:\n",
        "  labels = list(zip(list(node[1].keys()), list(node[1].values()))) # ugly as heck\n",
        "  return labels\n"
      ],
      "execution_count": null,
      "outputs": []
    },
    {
      "cell_type": "code",
      "metadata": {
        "id": "1F2M92XWc94Y"
      },
      "source": [
        "labels = extract_node_colors(a[0])\n",
        "first_df = pd.DataFrame(node_labels, columns=['iteration_number', f'Node_{node_num}'])\n",
        "first_df.set_index('iteration_number', inplace=True)\n",
        "first_df\n",
        "\n",
        "for node_num in range(1,50):\n",
        "  try:\n",
        "    labels = extract_node_colors(a[node_num])\n",
        "    df = pd.DataFrame(node_labels, columns=['iteration_number', f'Node_{node_num}'])\n",
        "    df.set_index('iteration_number', inplace=True)\n",
        "    frist_df = pd.concat([df,first_df], axis=1)\n",
        "\n",
        "  except:\n",
        "    print(f'broke on {node_num}')\n",
        "# untested"
      ],
      "execution_count": null,
      "outputs": []
    },
    {
      "cell_type": "code",
      "metadata": {
        "id": "Zvhb9QpGkM_T"
      },
      "source": [
        "def create_node_color_df(color_graph) -> pd.DataFrame:\n",
        "  \"\"\"\n",
        "    untested\n",
        "  \"\"\"\n",
        "  a =  color_graph.nodes.data(True)\n",
        "\n",
        "  labels = extract_node_colors(a[0])\n",
        "  first_df = pd.DataFrame(node_labels, columns=['iteration_number', f'Node_{node_num}'])\n",
        "  first_df.set_index('iteration_number', inplace=True)\n",
        "  first_df\n",
        "\n",
        "  for node_num in range(1,len(a)):  \n",
        "    try:\n",
        "      labels = extract_node_colors(a[node_num])\n",
        "      df = pd.DataFrame(node_labels, columns=['iteration_number', f'Node_{node_num}'])\n",
        "      df.set_index('iteration_number', inplace=True)\n",
        "      first_df = pd.concat([df,first_df], axis=1)\n",
        "\n",
        "    except:\n",
        "      print(f'broke on {node_num}')"
      ],
      "execution_count": null,
      "outputs": []
    }
  ]
}